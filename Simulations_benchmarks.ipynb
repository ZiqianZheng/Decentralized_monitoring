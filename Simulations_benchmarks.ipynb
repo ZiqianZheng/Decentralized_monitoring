{
 "cells": [
  {
   "cell_type": "code",
   "execution_count": 2,
   "metadata": {
    "collapsed": true,
    "pycharm": {
     "name": "#%%\n"
    }
   },
   "outputs": [
    {
     "data": {
      "text/plain": "<module 'decentralized_monitoring' from 'C:\\\\Document_Z\\\\Code\\\\iot-monitoring\\\\decentralized_monitoring.py'>"
     },
     "execution_count": 2,
     "metadata": {},
     "output_type": "execute_result"
    }
   ],
   "source": [
    "import numpy as np\n",
    "import importlib as imp\n",
    "import decentralized_monitoring as dm\n",
    "import pickle\n",
    "imp.reload(dm)"
   ]
  },
  {
   "cell_type": "code",
   "execution_count": 3,
   "outputs": [],
   "source": [
    "with open('data/data_correlated_stream.pkl', 'rb') as f:\n",
    "    data_dict = pickle.load(f)\n",
    "data_ic = data_dict['data_ic']\n",
    "data_ol = [data_dict['data1'], data_dict['data2'], data_dict['data3']]"
   ],
   "metadata": {
    "collapsed": false,
    "pycharm": {
     "name": "#%%\n"
    }
   }
  },
  {
   "cell_type": "markdown",
   "source": [
    "### Quants\n",
    "#### Identical edge devices\n",
    "##### m=2"
   ],
   "metadata": {
    "collapsed": false,
    "pycharm": {
     "name": "#%% md\n"
    }
   }
  },
  {
   "cell_type": "code",
   "execution_count": 18,
   "outputs": [
    {
     "name": "stdout",
     "output_type": "stream",
     "text": [
      "90.85\t371.68\t3.94\n",
      "CPU times: total: 15.6 ms\n",
      "Wall time: 4min 59s\n"
     ]
    },
    {
     "data": {
      "text/plain": "(371.6792, 3.9363406418571043)"
     },
     "execution_count": 18,
     "metadata": {},
     "output_type": "execute_result"
    }
   ],
   "source": [
    "%%time\n",
    "#90.75: 364.06, 90.80: 366.96, 90.85: 371.68\n",
    "distribution_type = [1, 2, 3, 4, 5] * 10\n",
    "n_ic = 500\n",
    "r, k, d = 3, 1, 10\n",
    "n_observe = 2\n",
    "h = 90.85\n",
    "dm.arl_quants(n_observe=n_observe, distribution_type=distribution_type, n_ic=n_ic, r=r, h=h, k=k, d=d,\n",
    "              n_thread=15, N=10000, verbose=1)"
   ],
   "metadata": {
    "collapsed": false,
    "pycharm": {
     "name": "#%%\n"
    }
   }
  },
  {
   "cell_type": "code",
   "execution_count": 19,
   "outputs": [
    {
     "name": "stdout",
     "output_type": "stream",
     "text": [
      "90.85\t106.47\t1.00\n",
      "90.85\t67.65\t0.61\n",
      "90.85\t62.49\t0.56\n",
      "CPU times: total: 31.2 ms\n",
      "Wall time: 4min 25s\n"
     ]
    }
   ],
   "source": [
    "%%time\n",
    "size_list = [1, 2, 3]\n",
    "for size_shift in size_list:\n",
    "    dm.arl_quants(n_observe=n_observe, distribution_type=distribution_type, n_ic=n_ic, r=r, h=h, k=k, d=d,\n",
    "                  n_shift=2, size_shift=size_shift, t_shift=30, n_thread=15, N=10000, verbose=1)"
   ],
   "metadata": {
    "collapsed": false,
    "pycharm": {
     "name": "#%%\n"
    }
   }
  },
  {
   "cell_type": "markdown",
   "source": [
    "##### $m=4$"
   ],
   "metadata": {
    "collapsed": false,
    "pycharm": {
     "name": "#%% md\n"
    }
   }
  },
  {
   "cell_type": "code",
   "execution_count": 24,
   "outputs": [
    {
     "name": "stdout",
     "output_type": "stream",
     "text": [
      "91.00\t372.15\t3.75\n",
      "CPU times: total: 0 ns\n",
      "Wall time: 5min 15s\n"
     ]
    },
    {
     "data": {
      "text/plain": "(372.1517, 3.7466526592027445)"
     },
     "execution_count": 24,
     "metadata": {},
     "output_type": "execute_result"
    }
   ],
   "source": [
    "%%time\n",
    "# 90.85: 365.32, 90.90: 365.57, 90.95: 364.87, 91: 372.15\n",
    "distribution_type = [1, 2, 3, 4, 5] * 10\n",
    "n_ic = 500\n",
    "r, k, d = 3, 1, 10\n",
    "n_observe = 4\n",
    "h = 91.00\n",
    "dm.arl_quants(n_observe=n_observe, distribution_type=distribution_type, n_ic=n_ic, r=r, h=h, k=k, d=d,\n",
    "              n_thread=15, N=10000, verbose=1)"
   ],
   "metadata": {
    "collapsed": false,
    "pycharm": {
     "name": "#%%\n"
    }
   }
  },
  {
   "cell_type": "code",
   "execution_count": 25,
   "outputs": [
    {
     "name": "stdout",
     "output_type": "stream",
     "text": [
      "91.00\t70.04\t0.59\n",
      "91.00\t39.42\t0.31\n",
      "91.00\t34.36\t0.27\n",
      "CPU times: total: 0 ns\n",
      "Wall time: 3min 21s\n"
     ]
    }
   ],
   "source": [
    "%%time\n",
    "size_list = [1, 2, 3]\n",
    "for size_shift in size_list:\n",
    "    dm.arl_quants(n_observe=n_observe, distribution_type=distribution_type, n_ic=n_ic, r=r, h=h, k=k, d=d,\n",
    "                  n_shift=2, size_shift=size_shift, t_shift=30, n_thread=15, N=10000, verbose=1)"
   ],
   "metadata": {
    "collapsed": false,
    "pycharm": {
     "name": "#%%\n"
    }
   }
  },
  {
   "cell_type": "markdown",
   "source": [
    "##### $m=6$"
   ],
   "metadata": {
    "collapsed": false,
    "pycharm": {
     "name": "#%% md\n"
    }
   }
  },
  {
   "cell_type": "code",
   "execution_count": 27,
   "outputs": [
    {
     "name": "stdout",
     "output_type": "stream",
     "text": [
      "91.10\t368.72\t3.67\n",
      "CPU times: total: 0 ns\n",
      "Wall time: 5min 5s\n"
     ]
    },
    {
     "data": {
      "text/plain": "(368.7193, 3.674835483494602)"
     },
     "execution_count": 27,
     "metadata": {},
     "output_type": "execute_result"
    }
   ],
   "source": [
    "%%time\n",
    "# 91: 357.62, 91.1: 368.72\n",
    "distribution_type = [1, 2, 3, 4, 5] * 10\n",
    "n_ic = 500\n",
    "r, k, d = 3, 1, 10\n",
    "n_observe = 6\n",
    "h = 91.10\n",
    "dm.arl_quants(n_observe=n_observe, distribution_type=distribution_type, n_ic=n_ic, r=r, h=h, k=k, d=d,\n",
    "              n_thread=15, N=10000, verbose=1)"
   ],
   "metadata": {
    "collapsed": false,
    "pycharm": {
     "name": "#%%\n"
    }
   }
  },
  {
   "cell_type": "code",
   "execution_count": 28,
   "outputs": [
    {
     "name": "stdout",
     "output_type": "stream",
     "text": [
      "91.10\t54.48\t0.44\n",
      "91.10\t28.67\t0.22\n",
      "91.10\t25.10\t0.19\n",
      "CPU times: total: 62.5 ms\n",
      "Wall time: 2min 52s\n"
     ]
    }
   ],
   "source": [
    "%%time\n",
    "size_list = [1, 2, 3]\n",
    "for size_shift in size_list:\n",
    "    dm.arl_quants(n_observe=n_observe, distribution_type=distribution_type, n_ic=n_ic, r=r, h=h, k=k, d=d,\n",
    "                  n_shift=2, size_shift=size_shift, t_shift=30, n_thread=15, N=10000, verbose=1)"
   ],
   "metadata": {
    "collapsed": false,
    "pycharm": {
     "name": "#%%\n"
    }
   }
  },
  {
   "cell_type": "markdown",
   "source": [
    "##### $m=50$"
   ],
   "metadata": {
    "collapsed": false,
    "pycharm": {
     "name": "#%% md\n"
    }
   }
  },
  {
   "cell_type": "code",
   "execution_count": 32,
   "outputs": [
    {
     "name": "stdout",
     "output_type": "stream",
     "text": [
      "93.00\t369.97\t3.72\n",
      "CPU times: total: 15.6 ms\n",
      "Wall time: 5min 49s\n"
     ]
    },
    {
     "data": {
      "text/plain": "(369.9655, 3.7154755080574815)"
     },
     "execution_count": 32,
     "metadata": {},
     "output_type": "execute_result"
    }
   ],
   "source": [
    "%%time\n",
    "# 91.1: 303.32, 91.5: 313.00, 93:\n",
    "distribution_type = [1, 2, 3, 4, 5] * 10\n",
    "n_ic = 500\n",
    "r, k, d = 3, 1, 10\n",
    "n_observe = 50\n",
    "h = 93.00\n",
    "dm.arl_quants(n_observe=n_observe, distribution_type=distribution_type, n_ic=n_ic, r=r, h=h, k=k, d=d,\n",
    "              n_thread=15, N=10000, verbose=1)"
   ],
   "metadata": {
    "collapsed": false,
    "pycharm": {
     "name": "#%%\n"
    }
   }
  },
  {
   "cell_type": "code",
   "execution_count": 33,
   "outputs": [
    {
     "name": "stdout",
     "output_type": "stream",
     "text": [
      "93.00\t21.18\t0.15\n",
      "93.00\t8.78\t0.06\n",
      "93.00\t7.11\t0.05\n",
      "CPU times: total: 31.2 ms\n",
      "Wall time: 2min 19s\n"
     ]
    }
   ],
   "source": [
    "%%time\n",
    "size_list = [1, 2, 3]\n",
    "for size_shift in size_list:\n",
    "    dm.arl_quants(n_observe=n_observe, distribution_type=distribution_type, n_ic=n_ic, r=r, h=h, k=k, d=d,\n",
    "                  n_shift=2, size_shift=size_shift, t_shift=30, n_thread=15, N=10000, verbose=1)"
   ],
   "metadata": {
    "collapsed": false,
    "pycharm": {
     "name": "#%%\n"
    }
   }
  },
  {
   "cell_type": "markdown",
   "source": [
    "### QH01\n",
    "#### Identical edge devices"
   ],
   "metadata": {
    "collapsed": false,
    "pycharm": {
     "name": "#%% md\n"
    }
   }
  },
  {
   "cell_type": "code",
   "execution_count": 74,
   "outputs": [
    {
     "data": {
      "text/plain": "<module 'decentralized_monitoring' from 'C:\\\\Document_Z\\\\Code\\\\iot-monitoring\\\\decentralized_monitoring.py'>"
     },
     "execution_count": 74,
     "metadata": {},
     "output_type": "execute_result"
    }
   ],
   "source": [
    "imp.reload(dm)"
   ],
   "metadata": {
    "collapsed": false,
    "pycharm": {
     "name": "#%%\n"
    }
   }
  },
  {
   "cell_type": "code",
   "execution_count": 94,
   "outputs": [
    {
     "name": "stdout",
     "output_type": "stream",
     "text": [
      "1259428.8112548385 302.3279142596813\n",
      "CPU times: total: 0 ns\n",
      "Wall time: 5 ms\n"
     ]
    },
    {
     "data": {
      "text/plain": "4"
     },
     "execution_count": 94,
     "metadata": {},
     "output_type": "execute_result"
    }
   ],
   "source": [
    "%%time\n",
    "distribution_type = [1, 2, 3, 4, 5] * 10\n",
    "n_ic = 500\n",
    "k = 0.05\n",
    "h = 2000\n",
    "dm.rl_qh(distribution_type=distribution_type, n_ic=n_ic, h=h, k=1, n_shift=None, size_shift=1, t_shift=30)"
   ],
   "metadata": {
    "collapsed": false,
    "pycharm": {
     "name": "#%%\n"
    }
   }
  },
  {
   "cell_type": "code",
   "execution_count": 73,
   "outputs": [
    {
     "name": "stdout",
     "output_type": "stream",
     "text": [
      "1526.563198835592 13450.01998128221\n"
     ]
    },
    {
     "data": {
      "text/plain": "628"
     },
     "execution_count": 73,
     "metadata": {},
     "output_type": "execute_result"
    }
   ],
   "source": [
    "dm.rl_qh(distribution_type=distribution_type, n_ic=n_ic, h=h, k=1, n_shift=2, size_shift=1, t_shift=30)"
   ],
   "metadata": {
    "collapsed": false,
    "pycharm": {
     "name": "#%%\n"
    }
   }
  },
  {
   "cell_type": "markdown",
   "source": [
    "### SRAS full\n",
    "#### Identical edge devices"
   ],
   "metadata": {
    "collapsed": false,
    "pycharm": {
     "name": "#%% md\n"
    }
   }
  },
  {
   "cell_type": "code",
   "execution_count": 15,
   "outputs": [
    {
     "name": "stdout",
     "output_type": "stream",
     "text": [
      "4.41\t369.42\t3.69\n",
      "CPU times: total: 0 ns\n",
      "Wall time: 2min 45s\n"
     ]
    },
    {
     "data": {
      "text/plain": "(369.4224, 3.686852955818011)"
     },
     "execution_count": 15,
     "metadata": {},
     "output_type": "execute_result"
    }
   ],
   "source": [
    "%%time\n",
    "# 4.412: 364.01, 4.414:\n",
    "distribution_type = [1, 2, 3, 4, 5] * 10\n",
    "n_ic = 500\n",
    "lambda_ = 0.1\n",
    "h = 4.414\n",
    "dm.arl_SRAS_full(distribution_type=distribution_type, n_ic=n_ic, lambda_=lambda_, h=h, n_thread=15, N=10000, verbose=1)"
   ],
   "metadata": {
    "collapsed": false,
    "pycharm": {
     "name": "#%%\n"
    }
   }
  },
  {
   "cell_type": "code",
   "execution_count": 16,
   "outputs": [
    {
     "name": "stdout",
     "output_type": "stream",
     "text": [
      "4.41\t15.88\t0.08\n",
      "4.41\t6.04\t0.02\n",
      "4.41\t4.11\t0.01\n",
      "CPU times: total: 93.8 ms\n",
      "Wall time: 1min 27s\n"
     ]
    }
   ],
   "source": [
    "%%time\n",
    "size_list = [1, 2, 3]\n",
    "for size_shift in size_list:\n",
    "    dm.arl_SRAS_full(distribution_type=distribution_type, n_ic=n_ic, lambda_=lambda_, h=h, n_shift=2, size_shift=size_shift, t_shift=30,\n",
    "                     n_thread=15, N=10000, verbose=1)"
   ],
   "metadata": {
    "collapsed": false,
    "pycharm": {
     "name": "#%%\n"
    }
   }
  },
  {
   "cell_type": "markdown",
   "source": [
    "### SRAS\n",
    "#### Identical edge devices\n",
    "##### $m=2$"
   ],
   "metadata": {
    "collapsed": false,
    "pycharm": {
     "name": "#%% md\n"
    }
   }
  },
  {
   "cell_type": "code",
   "execution_count": 61,
   "outputs": [
    {
     "data": {
      "text/plain": "<module 'decentralized_monitoring' from 'C:\\\\Document_Z\\\\Code\\\\iot-monitoring\\\\decentralized_monitoring.py'>"
     },
     "execution_count": 61,
     "metadata": {},
     "output_type": "execute_result"
    }
   ],
   "source": [
    "imp.reload(dm)"
   ],
   "metadata": {
    "collapsed": false,
    "pycharm": {
     "name": "#%%\n"
    }
   }
  },
  {
   "cell_type": "code",
   "execution_count": 69,
   "outputs": [
    {
     "name": "stdout",
     "output_type": "stream",
     "text": [
      "1.96\t372.36\t3.83\n",
      "CPU times: total: 0 ns\n",
      "Wall time: 1min 56s\n"
     ]
    },
    {
     "data": {
      "text/plain": "(372.3552, 3.826820184343132)"
     },
     "execution_count": 69,
     "metadata": {},
     "output_type": "execute_result"
    }
   ],
   "source": [
    "%%time\n",
    "distribution_type = [1, 2, 3, 4, 5] * 10\n",
    "n_ic = 500\n",
    "lambda_ = 0.1\n",
    "bandwidth = 1.5\n",
    "delta = 0.08\n",
    "n_observe = 2\n",
    "h = 1.963\n",
    "dm.arl_SRAS(n_observe=n_observe, distribution_type=distribution_type, n_ic=n_ic, lambda_=lambda_, h=h, bandwidth=bandwidth,\n",
    "            delta=delta, n_thread=15, N=10000, verbose=1)"
   ],
   "metadata": {
    "collapsed": false,
    "pycharm": {
     "name": "#%%\n"
    }
   }
  },
  {
   "cell_type": "code",
   "execution_count": 70,
   "outputs": [
    {
     "name": "stdout",
     "output_type": "stream",
     "text": [
      "1.96\t265.19\t3.40\n",
      "1.96\t262.57\t3.43\n",
      "1.96\t260.28\t3.33\n",
      "CPU times: total: 31.2 ms\n",
      "Wall time: 4min 37s\n"
     ]
    }
   ],
   "source": [
    "%%time\n",
    "size_list = [1, 2, 3]\n",
    "for size_shift in size_list:\n",
    "    dm.arl_SRAS(n_observe=n_observe, distribution_type=distribution_type, n_ic=n_ic, lambda_=lambda_, h=h, bandwidth=bandwidth,\n",
    "                delta=delta, n_shift=2, size_shift=size_shift, t_shift=30, n_thread=15, N=10000, verbose=1)"
   ],
   "metadata": {
    "collapsed": false,
    "pycharm": {
     "name": "#%%\n"
    }
   }
  },
  {
   "cell_type": "markdown",
   "source": [
    "##### $m=4$"
   ],
   "metadata": {
    "collapsed": false,
    "pycharm": {
     "name": "#%% md\n"
    }
   }
  },
  {
   "cell_type": "code",
   "execution_count": 79,
   "outputs": [
    {
     "name": "stdout",
     "output_type": "stream",
     "text": [
      "2.53\t369.66\t3.72\n",
      "CPU times: total: 0 ns\n",
      "Wall time: 1min 52s\n"
     ]
    },
    {
     "data": {
      "text/plain": "(369.6601, 3.716194324412947)"
     },
     "execution_count": 79,
     "metadata": {},
     "output_type": "execute_result"
    }
   ],
   "source": [
    "%%time\n",
    "distribution_type = [1, 2, 3, 4, 5] * 10\n",
    "n_ic = 500\n",
    "lambda_ = 0.1\n",
    "bandwidth = 1.5\n",
    "delta = 0.08\n",
    "n_observe = 4\n",
    "h = 2.53\n",
    "dm.arl_SRAS(n_observe=n_observe, distribution_type=distribution_type, n_ic=n_ic, lambda_=lambda_, h=h, bandwidth=bandwidth,\n",
    "            delta=delta, n_thread=15, N=10000, verbose=1)"
   ],
   "metadata": {
    "collapsed": false,
    "pycharm": {
     "name": "#%%\n"
    }
   }
  },
  {
   "cell_type": "code",
   "execution_count": 80,
   "outputs": [
    {
     "name": "stdout",
     "output_type": "stream",
     "text": [
      "2.53\t229.41\t3.34\n",
      "2.53\t220.05\t3.19\n",
      "2.53\t217.22\t3.22\n",
      "CPU times: total: 0 ns\n",
      "Wall time: 3min 51s\n"
     ]
    }
   ],
   "source": [
    "%%time\n",
    "size_list = [1, 2, 3]\n",
    "for size_shift in size_list:\n",
    "    dm.arl_SRAS(n_observe=n_observe, distribution_type=distribution_type, n_ic=n_ic, lambda_=lambda_, h=h, bandwidth=bandwidth,\n",
    "                delta=delta, n_shift=2, size_shift=size_shift, t_shift=30, n_thread=15, N=10000, verbose=1)"
   ],
   "metadata": {
    "collapsed": false,
    "pycharm": {
     "name": "#%%\n"
    }
   }
  },
  {
   "cell_type": "markdown",
   "source": [
    "##### $m=6$"
   ],
   "metadata": {
    "collapsed": false,
    "pycharm": {
     "name": "#%% md\n"
    }
   }
  },
  {
   "cell_type": "code",
   "execution_count": 88,
   "outputs": [
    {
     "name": "stdout",
     "output_type": "stream",
     "text": [
      "2.93\t370.33\t3.69\n",
      "CPU times: total: 15.6 ms\n",
      "Wall time: 2min 16s\n"
     ]
    },
    {
     "data": {
      "text/plain": "(370.3266, 3.685375127886441)"
     },
     "execution_count": 88,
     "metadata": {},
     "output_type": "execute_result"
    }
   ],
   "source": [
    "%%time\n",
    "distribution_type = [1, 2, 3, 4, 5] * 10\n",
    "n_ic = 500\n",
    "lambda_ = 0.1\n",
    "bandwidth = 1.5\n",
    "delta = 0.08\n",
    "n_observe = 6\n",
    "h = 2.934\n",
    "dm.arl_SRAS(n_observe=n_observe, distribution_type=distribution_type, n_ic=n_ic, lambda_=lambda_, h=h, bandwidth=bandwidth,\n",
    "            delta=delta, n_thread=15, N=10000, verbose=1)"
   ],
   "metadata": {
    "collapsed": false,
    "pycharm": {
     "name": "#%%\n"
    }
   }
  },
  {
   "cell_type": "code",
   "execution_count": 89,
   "outputs": [
    {
     "name": "stdout",
     "output_type": "stream",
     "text": [
      "2.93\t205.40\t3.20\n",
      "2.93\t200.79\t3.19\n",
      "2.93\t197.47\t3.16\n",
      "CPU times: total: 0 ns\n",
      "Wall time: 4min 45s\n"
     ]
    }
   ],
   "source": [
    "%%time\n",
    "size_list = [1, 2, 3]\n",
    "for size_shift in size_list:\n",
    "    dm.arl_SRAS(n_observe=n_observe, distribution_type=distribution_type, n_ic=n_ic, lambda_=lambda_, h=h, bandwidth=bandwidth,\n",
    "                delta=delta, n_shift=2, size_shift=size_shift, t_shift=30, n_thread=15, N=10000, verbose=1)"
   ],
   "metadata": {
    "collapsed": false,
    "pycharm": {
     "name": "#%%\n"
    }
   }
  },
  {
   "cell_type": "markdown",
   "source": [
    "#### Distinct edge devices\n",
    "##### $m=2$"
   ],
   "metadata": {
    "collapsed": false,
    "pycharm": {
     "name": "#%% md\n"
    }
   }
  },
  {
   "cell_type": "code",
   "execution_count": 100,
   "outputs": [
    {
     "name": "stdout",
     "output_type": "stream",
     "text": [
      "0.91\t372.43\t3.84\n",
      "CPU times: total: 93.8 ms\n",
      "Wall time: 3min 37s\n"
     ]
    },
    {
     "data": {
      "text/plain": "(372.4344, 3.8385804367844116)"
     },
     "execution_count": 100,
     "metadata": {},
     "output_type": "execute_result"
    }
   ],
   "source": [
    "%%time\n",
    "distribution_type = [1, 2, 3, 4, 5] * 5 + [1, 2, 3, 4, 5, 1, 2, 3, 4, 5] * 5\n",
    "n_ic = 500\n",
    "lambda_ = 0.1\n",
    "bandwidth = 1.5\n",
    "delta = 0.08\n",
    "n_observe = 2\n",
    "h = 0.91\n",
    "dm.arl_SRAS(n_observe=n_observe, distribution_type=distribution_type, n_ic=n_ic, lambda_=lambda_, h=h, bandwidth=bandwidth,\n",
    "            delta=delta, n_thread=15, N=10000, verbose=1)"
   ],
   "metadata": {
    "collapsed": false,
    "pycharm": {
     "name": "#%%\n"
    }
   }
  },
  {
   "cell_type": "code",
   "execution_count": 104,
   "outputs": [
    {
     "name": "stdout",
     "output_type": "stream",
     "text": [
      "0.91\t287.71\t3.53\n",
      "0.91\t292.92\t3.59\n",
      "0.91\t283.02\t3.45\n",
      "CPU times: total: 0 ns\n",
      "Wall time: 8min 5s\n"
     ]
    }
   ],
   "source": [
    "%%time\n",
    "size_list = [1, 2, 3]\n",
    "for size_shift in size_list:\n",
    "    dm.arl_SRAS(n_observe=n_observe, distribution_type=distribution_type, n_ic=n_ic, lambda_=lambda_, h=h, bandwidth=bandwidth,\n",
    "                delta=delta, n_shift=2, size_shift=size_shift, t_shift=30, n_thread=15, N=10000, verbose=1)"
   ],
   "metadata": {
    "collapsed": false,
    "pycharm": {
     "name": "#%%\n"
    }
   }
  },
  {
   "cell_type": "markdown",
   "source": [
    "##### $m=4$"
   ],
   "metadata": {
    "collapsed": false,
    "pycharm": {
     "name": "#%% md\n"
    }
   }
  },
  {
   "cell_type": "code",
   "execution_count": 115,
   "outputs": [
    {
     "name": "stdout",
     "output_type": "stream",
     "text": [
      "1.21\t370.69\t3.70\n",
      "CPU times: total: 0 ns\n",
      "Wall time: 4min 8s\n"
     ]
    },
    {
     "data": {
      "text/plain": "(370.6866, 3.7017809738076077)"
     },
     "execution_count": 115,
     "metadata": {},
     "output_type": "execute_result"
    }
   ],
   "source": [
    "%%time\n",
    "distribution_type = [1, 2, 3, 4, 5] * 5 + [1, 2, 3, 4, 5, 1, 2, 3, 4, 5] * 5\n",
    "n_ic = 500\n",
    "lambda_ = 0.1\n",
    "bandwidth = 1.5\n",
    "delta = 0.08\n",
    "n_observe = 4\n",
    "h = 1.208\n",
    "dm.arl_SRAS(n_observe=n_observe, distribution_type=distribution_type, n_ic=n_ic, lambda_=lambda_, h=h, bandwidth=bandwidth,\n",
    "            delta=delta, n_thread=15, N=10000, verbose=1)"
   ],
   "metadata": {
    "collapsed": false,
    "pycharm": {
     "name": "#%%\n"
    }
   }
  },
  {
   "cell_type": "code",
   "execution_count": 116,
   "outputs": [
    {
     "name": "stdout",
     "output_type": "stream",
     "text": [
      "1.21\t250.01\t3.41\n",
      "1.21\t237.55\t3.23\n",
      "1.21\t234.24\t3.14\n",
      "CPU times: total: 0 ns\n",
      "Wall time: 10min 29s\n"
     ]
    }
   ],
   "source": [
    "%%time\n",
    "size_list = [1, 2, 3]\n",
    "for size_shift in size_list:\n",
    "    dm.arl_SRAS(n_observe=n_observe, distribution_type=distribution_type, n_ic=n_ic, lambda_=lambda_, h=h, bandwidth=bandwidth,\n",
    "                delta=delta, n_shift=2, size_shift=size_shift, t_shift=30, n_thread=15, N=10000, verbose=1)"
   ],
   "metadata": {
    "collapsed": false,
    "pycharm": {
     "name": "#%%\n"
    }
   }
  },
  {
   "cell_type": "markdown",
   "source": [
    "##### $m=6$"
   ],
   "metadata": {
    "collapsed": false,
    "pycharm": {
     "name": "#%% md\n"
    }
   }
  },
  {
   "cell_type": "code",
   "execution_count": 122,
   "outputs": [
    {
     "name": "stdout",
     "output_type": "stream",
     "text": [
      "1.43\t372.96\t3.71\n",
      "CPU times: total: 15.6 ms\n",
      "Wall time: 3min 48s\n"
     ]
    },
    {
     "data": {
      "text/plain": "(372.9576, 3.7098814482708207)"
     },
     "execution_count": 122,
     "metadata": {},
     "output_type": "execute_result"
    }
   ],
   "source": [
    "%%time\n",
    "distribution_type = [1, 2, 3, 4, 5] * 5 + [1, 2, 3, 4, 5, 1, 2, 3, 4, 5] * 5\n",
    "n_ic = 500\n",
    "lambda_ = 0.1\n",
    "bandwidth = 1.5\n",
    "delta = 0.08\n",
    "n_observe = 6\n",
    "h = 1.43\n",
    "dm.arl_SRAS(n_observe=n_observe, distribution_type=distribution_type, n_ic=n_ic, lambda_=lambda_, h=h, bandwidth=bandwidth,\n",
    "            delta=delta, n_thread=15, N=10000, verbose=1)"
   ],
   "metadata": {
    "collapsed": false,
    "pycharm": {
     "name": "#%%\n"
    }
   }
  },
  {
   "cell_type": "code",
   "execution_count": 123,
   "outputs": [
    {
     "name": "stdout",
     "output_type": "stream",
     "text": [
      "1.43\t222.83\t3.20\n",
      "1.43\t216.60\t3.21\n",
      "1.43\t210.25\t3.11\n",
      "CPU times: total: 93.8 ms\n",
      "Wall time: 9min 25s\n"
     ]
    }
   ],
   "source": [
    "%%time\n",
    "size_list = [1, 2, 3]\n",
    "for size_shift in size_list:\n",
    "    dm.arl_SRAS(n_observe=n_observe, distribution_type=distribution_type, n_ic=n_ic, lambda_=lambda_, h=h, bandwidth=bandwidth,\n",
    "                delta=delta, n_shift=2, size_shift=size_shift, t_shift=30, n_thread=15, N=10000, verbose=1)"
   ],
   "metadata": {
    "collapsed": false,
    "pycharm": {
     "name": "#%%\n"
    }
   }
  },
  {
   "cell_type": "markdown",
   "source": [
    "#### Correlated data streams\n",
    "##### $m=2$"
   ],
   "metadata": {
    "collapsed": false,
    "pycharm": {
     "name": "#%% md\n"
    }
   }
  },
  {
   "cell_type": "code",
   "execution_count": 34,
   "outputs": [
    {
     "name": "stdout",
     "output_type": "stream",
     "text": [
      "1.76\t364.54\t3.52\n",
      "CPU times: total: 31.2 ms\n",
      "Wall time: 2min 5s\n"
     ]
    },
    {
     "data": {
      "text/plain": "(364.5363, 3.515245722311742)"
     },
     "execution_count": 34,
     "metadata": {},
     "output_type": "execute_result"
    }
   ],
   "source": [
    "%%time\n",
    "distribution_type = [1] * 50\n",
    "n_ic = 500\n",
    "lambda_ = 0.1\n",
    "bandwidth = 1.5\n",
    "delta = 0.08\n",
    "n_observe = 2\n",
    "h = 1.76\n",
    "dm.arl_SRAS(n_observe=n_observe, distribution_type=distribution_type, n_ic=n_ic, lambda_=lambda_, h=h, bandwidth=bandwidth,\n",
    "            delta=delta, n_thread=15, N=10000, verbose=1, data_ic_file=data_ic, bootstrap_flag=True)"
   ],
   "metadata": {
    "collapsed": false,
    "pycharm": {
     "name": "#%%\n"
    }
   }
  },
  {
   "cell_type": "code",
   "execution_count": 35,
   "outputs": [
    {
     "name": "stdout",
     "output_type": "stream",
     "text": [
      "[195.8442 196.9223 194.4754]\n",
      "[195.8442 196.9223 194.4754]\n",
      "[193.44924897 197.72694015 195.02681814]\n",
      "CPU times: total: 12.1 s\n",
      "Wall time: 3min 31s\n"
     ]
    }
   ],
   "source": [
    "%%time\n",
    "RL = np.zeros((3, 10000))\n",
    "for i in range(3):\n",
    "    RL[i] = dm.arl_SRAS(n_observe=n_observe, distribution_type=distribution_type, n_ic=n_ic, lambda_=lambda_, h=h, bandwidth=bandwidth,\n",
    "                             delta=delta, n_thread=15, N=10000, verbose=1, data_ic_file=data_ic, bootstrap_flag=False, data_ol_file=data_ol[i],\n",
    "                             debug=True)\n",
    "RL -= 30\n",
    "print(np.mean(RL, axis=1))\n",
    "print(np.std(RL, axis=1))"
   ],
   "metadata": {
    "collapsed": false,
    "pycharm": {
     "name": "#%%\n"
    }
   }
  },
  {
   "cell_type": "markdown",
   "source": [
    "##### $m=4$"
   ],
   "metadata": {
    "collapsed": false,
    "pycharm": {
     "name": "#%% md\n"
    }
   }
  },
  {
   "cell_type": "code",
   "execution_count": 53,
   "outputs": [
    {
     "name": "stdout",
     "output_type": "stream",
     "text": [
      "3.05\t380.51\t5.27\n",
      "CPU times: total: 0 ns\n",
      "Wall time: 1min\n"
     ]
    },
    {
     "data": {
      "text/plain": "(380.5136, 5.271999617128969)"
     },
     "execution_count": 53,
     "metadata": {},
     "output_type": "execute_result"
    }
   ],
   "source": [
    "%%time\n",
    "distribution_type = [1] * 50\n",
    "n_ic = 500\n",
    "lambda_ = 0.1\n",
    "bandwidth = 1.5\n",
    "delta = 0.08\n",
    "n_observe = 4\n",
    "h = 3.05\n",
    "dm.arl_SRAS(n_observe=n_observe, distribution_type=distribution_type, n_ic=n_ic, lambda_=lambda_, h=h, bandwidth=bandwidth,\n",
    "            delta=delta, n_thread=15, N=5000, verbose=1, data_ic_file=data_ic, bootstrap_flag=True)"
   ],
   "metadata": {
    "collapsed": false,
    "pycharm": {
     "name": "#%%\n"
    }
   }
  },
  {
   "cell_type": "code",
   "execution_count": 59,
   "outputs": [
    {
     "name": "stdout",
     "output_type": "stream",
     "text": [
      "[131.988  131.7054 128.805 ]\n",
      "[145.8077661  149.65816453 147.46112835]\n",
      "CPU times: total: 13.6 s\n",
      "Wall time: 2min 30s\n"
     ]
    }
   ],
   "source": [
    "%%time\n",
    "distribution_type = [1] * 50\n",
    "n_ic = 500\n",
    "lambda_ = 0.1\n",
    "bandwidth = 1.5\n",
    "delta = 0.08\n",
    "n_observe = 4\n",
    "h = 2.45\n",
    "RL = np.zeros((3, 10000))\n",
    "for i in range(3):\n",
    "    RL[i] = dm.arl_SRAS(n_observe=n_observe, distribution_type=distribution_type, n_ic=n_ic, lambda_=lambda_, h=h, bandwidth=bandwidth,\n",
    "                        delta=delta, n_thread=15, N=10000, verbose=1, data_ic_file=data_ic, bootstrap_flag=False, data_ol_file=data_ol[i],\n",
    "                        debug=True)\n",
    "RL -= 30\n",
    "print(np.mean(RL, axis=1))\n",
    "print(np.std(RL, axis=1))"
   ],
   "metadata": {
    "collapsed": false,
    "pycharm": {
     "name": "#%%\n"
    }
   }
  },
  {
   "cell_type": "markdown",
   "source": [
    "##### $m=6$"
   ],
   "metadata": {
    "collapsed": false,
    "pycharm": {
     "name": "#%% md\n"
    }
   }
  },
  {
   "cell_type": "code",
   "execution_count": 62,
   "outputs": [
    {
     "name": "stdout",
     "output_type": "stream",
     "text": [
      "3.50\t191.33\t5.75\n",
      "CPU times: total: 0 ns\n",
      "Wall time: 7.62 s\n"
     ]
    },
    {
     "data": {
      "text/plain": "(191.326, 5.7451828277261985)"
     },
     "execution_count": 62,
     "metadata": {},
     "output_type": "execute_result"
    }
   ],
   "source": [
    "%%time\n",
    "distribution_type = [1] * 50\n",
    "n_ic = 500\n",
    "lambda_ = 0.1\n",
    "bandwidth = 1.5\n",
    "delta = 0.08\n",
    "n_observe = 6\n",
    "h = 3.5\n",
    "dm.arl_SRAS(n_observe=n_observe, distribution_type=distribution_type, n_ic=n_ic, lambda_=lambda_, h=h, bandwidth=bandwidth,\n",
    "            delta=delta, n_thread=15, N=1000, verbose=1, data_ic_file=data_ic, bootstrap_flag=True)"
   ],
   "metadata": {
    "collapsed": false,
    "pycharm": {
     "name": "#%%\n"
    }
   }
  },
  {
   "cell_type": "code",
   "execution_count": 63,
   "outputs": [
    {
     "name": "stdout",
     "output_type": "stream",
     "text": [
      "[199.4558 193.3853 191.5529]\n",
      "[213.15641216 214.53315745 215.82517787]\n",
      "CPU times: total: 15.8 s\n",
      "Wall time: 3min 48s\n"
     ]
    }
   ],
   "source": [
    "%%time\n",
    "distribution_type = [1] * 50\n",
    "n_ic = 500\n",
    "lambda_ = 0.1\n",
    "bandwidth = 1.5\n",
    "delta = 0.08\n",
    "n_observe = 6\n",
    "h = 3.5\n",
    "RL = np.zeros((3, 10000))\n",
    "for i in range(3):\n",
    "    RL[i] = dm.arl_SRAS(n_observe=n_observe, distribution_type=distribution_type, n_ic=n_ic, lambda_=lambda_, h=h, bandwidth=bandwidth,\n",
    "                        delta=delta, n_thread=15, N=10000, verbose=1, data_ic_file=data_ic, bootstrap_flag=False, data_ol_file=data_ol[i],\n",
    "                        debug=True)\n",
    "RL -= 30\n",
    "print(np.mean(RL, axis=1))\n",
    "print(np.std(RL, axis=1))"
   ],
   "metadata": {
    "collapsed": false,
    "pycharm": {
     "name": "#%%\n"
    }
   }
  }
 ],
 "metadata": {
  "kernelspec": {
   "display_name": "Python 3",
   "language": "python",
   "name": "python3"
  },
  "language_info": {
   "codemirror_mode": {
    "name": "ipython",
    "version": 2
   },
   "file_extension": ".py",
   "mimetype": "text/x-python",
   "name": "python",
   "nbconvert_exporter": "python",
   "pygments_lexer": "ipython2",
   "version": "2.7.6"
  }
 },
 "nbformat": 4,
 "nbformat_minor": 0
}