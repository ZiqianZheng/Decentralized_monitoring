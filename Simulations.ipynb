{
 "cells": [
  {
   "cell_type": "code",
   "execution_count": 15,
   "metadata": {
    "collapsed": true,
    "pycharm": {
     "name": "#%%\n"
    }
   },
   "outputs": [
    {
     "data": {
      "text/plain": "<module 'decentralized_monitoring' from 'C:\\\\Document_Z\\\\Code\\\\iot-monitoring\\\\decentralized_monitoring.py'>"
     },
     "execution_count": 15,
     "metadata": {},
     "output_type": "execute_result"
    }
   ],
   "source": [
    "import numpy as np\n",
    "import importlib as imp\n",
    "import decentralized_monitoring as dm\n",
    "import pickle\n",
    "import matplotlib.pyplot as plt\n",
    "imp.reload(dm)"
   ]
  },
  {
   "cell_type": "code",
   "execution_count": 2,
   "outputs": [],
   "source": [
    "A_5_1 = np.load('data/A_5_1.npy')\n",
    "ARL_dict = {(5, 1):A_5_1}"
   ],
   "metadata": {
    "collapsed": false,
    "pycharm": {
     "name": "#%%\n"
    }
   }
  },
  {
   "cell_type": "markdown",
   "source": [
    "### Identical edge devices\n",
    "#### $\\Delta=5$\n",
    "##### $m=2$"
   ],
   "metadata": {
    "collapsed": false,
    "pycharm": {
     "name": "#%% md\n"
    }
   }
  },
  {
   "cell_type": "code",
   "execution_count": 135,
   "outputs": [
    {
     "name": "stdout",
     "output_type": "stream",
     "text": [
      "4680.00\t372.79\t3.18\n",
      "CPU times: total: 15.6 ms\n",
      "Wall time: 5min 40s\n"
     ]
    },
    {
     "data": {
      "text/plain": "(372.7909, 3.180774477657761)"
     },
     "execution_count": 135,
     "metadata": {},
     "output_type": "execute_result"
    }
   ],
   "source": [
    "%%time\n",
    "n_device, n_observe = 10, 2\n",
    "n_ic = 500\n",
    "distribution_type = [[1, 2, 3, 4, 5]] * 10\n",
    "r_server = 2\n",
    "r_device = [1]*10\n",
    "h = 4680\n",
    "delta = 5\n",
    "# for i in range(100):\n",
    "#     rl = dm.rl_proposed(n_device=n_device, n_observe=n_observe, distribution_type=distribution_type, n_ic=n_ic, r_device=r_device,\n",
    "#                         r_server=r_server, ARL_dict=ARL_dict, h=h, delta=delta)\n",
    "dm.arl_proposed(n_device=n_device, n_observe=n_observe, distribution_type=distribution_type, n_ic=n_ic,\n",
    "                r_device=r_device, r_server=r_server,ARL_dict=ARL_dict, h=h, delta=delta, N=10000, n_thread=15,\n",
    "                verbose=1)"
   ],
   "metadata": {
    "collapsed": false,
    "pycharm": {
     "name": "#%%\n"
    }
   }
  },
  {
   "cell_type": "code",
   "execution_count": 190,
   "outputs": [
    {
     "name": "stdout",
     "output_type": "stream",
     "text": [
      "4680.00\t16.15\t0.08\n",
      "4680.00\t8.20\t0.04\n",
      "4680.00\t6.14\t0.03\n",
      "CPU times: total: 78.1 ms\n",
      "Wall time: 2min 2s\n"
     ]
    }
   ],
   "source": [
    "%%time\n",
    "size_list = [1, 2, 3]\n",
    "for size_shift in size_list:\n",
    "    dm.arl_proposed(n_device=n_device, n_observe=n_observe, distribution_type=distribution_type, n_ic=n_ic,\n",
    "                    r_device=r_device, r_server=r_server, ARL_dict=ARL_dict, h=h, delta=delta, n_shift=10,\n",
    "                    size_shift=size_shift, t_shift=30, N=10000, n_thread=15, verbose=1)"
   ],
   "metadata": {
    "collapsed": false,
    "pycharm": {
     "name": "#%%\n"
    }
   }
  },
  {
   "cell_type": "markdown",
   "source": [
    "##### $m=4$"
   ],
   "metadata": {
    "collapsed": false,
    "pycharm": {
     "name": "#%% md\n"
    }
   }
  },
  {
   "cell_type": "code",
   "execution_count": 141,
   "outputs": [
    {
     "name": "stdout",
     "output_type": "stream",
     "text": [
      "4720.00\t368.86\t3.16\n",
      "CPU times: total: 0 ns\n",
      "Wall time: 5min 35s\n"
     ]
    },
    {
     "data": {
      "text/plain": "(368.8554, 3.1563299841879653)"
     },
     "execution_count": 141,
     "metadata": {},
     "output_type": "execute_result"
    }
   ],
   "source": [
    "%%time\n",
    "n_device, n_observe = 10, 4\n",
    "n_ic = 500\n",
    "distribution_type = [[1, 2, 3, 4, 5]] * 10\n",
    "r_server = 2\n",
    "r_device = [1]*10\n",
    "h = 4720\n",
    "delta = 5\n",
    "dm.arl_proposed(n_device=n_device, n_observe=n_observe, distribution_type=distribution_type, n_ic=n_ic,\n",
    "                r_device=r_device, r_server=r_server,ARL_dict=ARL_dict, h=h, delta=delta, N=10000, n_thread=15,\n",
    "                verbose=1)"
   ],
   "metadata": {
    "collapsed": false,
    "pycharm": {
     "name": "#%%\n"
    }
   }
  },
  {
   "cell_type": "code",
   "execution_count": 192,
   "outputs": [
    {
     "name": "stdout",
     "output_type": "stream",
     "text": [
      "4720.00\t15.01\t0.08\n",
      "4720.00\t6.90\t0.03\n",
      "4720.00\t4.91\t0.01\n",
      "CPU times: total: 93.8 ms\n",
      "Wall time: 2min\n"
     ]
    }
   ],
   "source": [
    "%%time\n",
    "size_list = [1, 2, 3]\n",
    "for size_shift in size_list:\n",
    "    dm.arl_proposed(n_device=n_device, n_observe=n_observe, distribution_type=distribution_type, n_ic=n_ic,\n",
    "                    r_device=r_device, r_server=r_server, ARL_dict=ARL_dict, h=h, delta=delta, n_shift=10,\n",
    "                    size_shift=size_shift, t_shift=30, N=10000, n_thread=15, verbose=1)"
   ],
   "metadata": {
    "collapsed": false,
    "pycharm": {
     "name": "#%%\n"
    }
   }
  },
  {
   "cell_type": "markdown",
   "source": [
    "##### $m=6$"
   ],
   "metadata": {
    "collapsed": false,
    "pycharm": {
     "name": "#%% md\n"
    }
   }
  },
  {
   "cell_type": "code",
   "execution_count": 144,
   "outputs": [
    {
     "name": "stdout",
     "output_type": "stream",
     "text": [
      "4750.00\t370.93\t3.17\n",
      "CPU times: total: 31.2 ms\n",
      "Wall time: 5min 22s\n"
     ]
    },
    {
     "data": {
      "text/plain": "(370.9338, 3.174459255015884)"
     },
     "execution_count": 144,
     "metadata": {},
     "output_type": "execute_result"
    }
   ],
   "source": [
    "%%time\n",
    "n_device, n_observe = 10, 6\n",
    "n_ic = 500\n",
    "distribution_type = [[1, 2, 3, 4, 5]] * 10\n",
    "r_server = 2\n",
    "r_device = [1]*10\n",
    "h = 4750\n",
    "delta = 5\n",
    "dm.arl_proposed(n_device=n_device, n_observe=n_observe, distribution_type=distribution_type, n_ic=n_ic,\n",
    "                r_device=r_device, r_server=r_server,ARL_dict=ARL_dict, h=h, delta=delta, N=10000, n_thread=15,\n",
    "                verbose=1)"
   ],
   "metadata": {
    "collapsed": false,
    "pycharm": {
     "name": "#%%\n"
    }
   }
  },
  {
   "cell_type": "code",
   "execution_count": 193,
   "outputs": [
    {
     "name": "stdout",
     "output_type": "stream",
     "text": [
      "4750.00\t14.98\t0.08\n",
      "4750.00\t6.72\t0.03\n",
      "4750.00\t4.74\t0.01\n",
      "CPU times: total: 31.2 ms\n",
      "Wall time: 2min 7s\n"
     ]
    }
   ],
   "source": [
    "%%time\n",
    "size_list = [1, 2, 3]\n",
    "for size_shift in size_list:\n",
    "    dm.arl_proposed(n_device=n_device, n_observe=n_observe, distribution_type=distribution_type, n_ic=n_ic,\n",
    "                    r_device=r_device, r_server=r_server, ARL_dict=ARL_dict, h=h, delta=delta, n_shift=10,\n",
    "                    size_shift=size_shift, t_shift=30, N=10000, n_thread=15, verbose=1)"
   ],
   "metadata": {
    "collapsed": false,
    "pycharm": {
     "name": "#%%\n"
    }
   }
  },
  {
   "cell_type": "markdown",
   "source": [
    "#### $\\Delta=40$\n",
    "##### $m=2$"
   ],
   "metadata": {
    "collapsed": false,
    "pycharm": {
     "name": "#%% md\n"
    }
   }
  },
  {
   "cell_type": "code",
   "execution_count": 178,
   "outputs": [
    {
     "name": "stdout",
     "output_type": "stream",
     "text": [
      "4745.00\t369.78\t3.15\n",
      "CPU times: total: 46.9 ms\n",
      "Wall time: 6min 8s\n"
     ]
    },
    {
     "data": {
      "text/plain": "(369.7809, 3.154959446572808)"
     },
     "execution_count": 178,
     "metadata": {},
     "output_type": "execute_result"
    }
   ],
   "source": [
    "%%time\n",
    "n_device, n_observe = 10, 2\n",
    "n_ic = 500\n",
    "distribution_type = [[1, 2, 3, 4, 5]] * 10\n",
    "r_server = 2\n",
    "r_device = [1]*10\n",
    "h = 4745\n",
    "delta = 40\n",
    "dm.arl_proposed(n_device=n_device, n_observe=n_observe, distribution_type=distribution_type, n_ic=n_ic,\n",
    "                r_device=r_device, r_server=r_server,ARL_dict=ARL_dict, h=h, delta=delta, N=10000, n_thread=15,\n",
    "                verbose=1)"
   ],
   "metadata": {
    "collapsed": false,
    "pycharm": {
     "name": "#%%\n"
    }
   }
  },
  {
   "cell_type": "code",
   "execution_count": 4,
   "outputs": [
    {
     "name": "stdout",
     "output_type": "stream",
     "text": [
      "4745.00\t15.36\t0.08\n",
      "4745.00\t7.10\t0.03\n",
      "4745.00\t5.20\t0.01\n",
      "CPU times: total: 0 ns\n",
      "Wall time: 1min 31s\n"
     ]
    }
   ],
   "source": [
    "%%time\n",
    "size_list = [1, 2, 3]\n",
    "for size_shift in size_list:\n",
    "    dm.arl_proposed(n_device=n_device, n_observe=n_observe, distribution_type=distribution_type, n_ic=n_ic,\n",
    "                    r_device=r_device, r_server=r_server, ARL_dict=ARL_dict, h=h, delta=delta, n_shift=2,\n",
    "                    size_shift=size_shift, t_shift=30, N=10000, n_thread=15, verbose=1)"
   ],
   "metadata": {
    "collapsed": false,
    "pycharm": {
     "name": "#%%\n"
    }
   }
  },
  {
   "cell_type": "markdown",
   "source": [
    "##### $m=4$"
   ],
   "metadata": {
    "collapsed": false,
    "pycharm": {
     "name": "#%% md\n"
    }
   }
  },
  {
   "cell_type": "code",
   "execution_count": 164,
   "outputs": [
    {
     "name": "stdout",
     "output_type": "stream",
     "text": [
      "4745.00\t372.07\t3.23\n",
      "CPU times: total: 15.6 ms\n",
      "Wall time: 5min 27s\n"
     ]
    },
    {
     "data": {
      "text/plain": "(372.0732, 3.229089500799877)"
     },
     "execution_count": 164,
     "metadata": {},
     "output_type": "execute_result"
    }
   ],
   "source": [
    "%%time\n",
    "n_device, n_observe = 10, 4\n",
    "n_ic = 500\n",
    "distribution_type = [[1, 2, 3, 4, 5]] * 10\n",
    "r_server = 2\n",
    "r_device = [1]*10\n",
    "h = 4745\n",
    "delta = 40\n",
    "dm.arl_proposed(n_device=n_device, n_observe=n_observe, distribution_type=distribution_type, n_ic=n_ic,\n",
    "                r_device=r_device, r_server=r_server,ARL_dict=ARL_dict, h=h, delta=delta, N=10000, n_thread=15,\n",
    "                verbose=1)"
   ],
   "metadata": {
    "collapsed": false,
    "pycharm": {
     "name": "#%%\n"
    }
   }
  },
  {
   "cell_type": "code",
   "execution_count": 6,
   "outputs": [
    {
     "name": "stdout",
     "output_type": "stream",
     "text": [
      "4745.00\t15.05\t0.08\n",
      "4745.00\t6.74\t0.03\n",
      "4745.00\t4.72\t0.01\n",
      "CPU times: total: 15.6 ms\n",
      "Wall time: 1min 31s\n"
     ]
    }
   ],
   "source": [
    "%%time\n",
    "for size_shift in size_list:\n",
    "    dm.arl_proposed(n_device=n_device, n_observe=n_observe, distribution_type=distribution_type, n_ic=n_ic,\n",
    "                    r_device=r_device, r_server=r_server, ARL_dict=ARL_dict, h=h, delta=delta, n_shift=2,\n",
    "                    size_shift=size_shift, t_shift=30, N=10000, n_thread=15, verbose=1)"
   ],
   "metadata": {
    "collapsed": false,
    "pycharm": {
     "name": "#%%\n"
    }
   }
  },
  {
   "cell_type": "markdown",
   "source": [
    "##### $m=6$"
   ],
   "metadata": {
    "collapsed": false,
    "pycharm": {
     "name": "#%% md\n"
    }
   }
  },
  {
   "cell_type": "code",
   "execution_count": 169,
   "outputs": [
    {
     "name": "stdout",
     "output_type": "stream",
     "text": [
      "4740.00\t369.07\t3.24\n",
      "CPU times: total: 31.2 ms\n",
      "Wall time: 5min 13s\n"
     ]
    },
    {
     "data": {
      "text/plain": "(369.0658, 3.238744050868484)"
     },
     "execution_count": 169,
     "metadata": {},
     "output_type": "execute_result"
    }
   ],
   "source": [
    "%%time\n",
    "n_device, n_observe = 10, 6\n",
    "n_ic = 500\n",
    "distribution_type = [[1, 2, 3, 4, 5]] * 10\n",
    "r_server = 2\n",
    "r_device = [1]*10\n",
    "h = 4740\n",
    "delta = 40\n",
    "dm.arl_proposed(n_device=n_device, n_observe=n_observe, distribution_type=distribution_type, n_ic=n_ic,\n",
    "                r_device=r_device, r_server=r_server,ARL_dict=ARL_dict, h=h, delta=delta, N=10000, n_thread=15,\n",
    "                verbose=1)"
   ],
   "metadata": {
    "collapsed": false,
    "pycharm": {
     "name": "#%%\n"
    }
   }
  },
  {
   "cell_type": "code",
   "execution_count": 7,
   "outputs": [
    {
     "name": "stdout",
     "output_type": "stream",
     "text": [
      "4740.00\t14.99\t0.08\n",
      "4740.00\t6.72\t0.03\n",
      "4740.00\t4.70\t0.01\n",
      "CPU times: total: 0 ns\n",
      "Wall time: 1min 32s\n"
     ]
    }
   ],
   "source": [
    "%%time\n",
    "for size_shift in size_list:\n",
    "    dm.arl_proposed(n_device=n_device, n_observe=n_observe, distribution_type=distribution_type, n_ic=n_ic,\n",
    "                    r_device=r_device, r_server=r_server, ARL_dict=ARL_dict, h=h, delta=delta, n_shift=2,\n",
    "                    size_shift=size_shift, t_shift=30, N=10000, n_thread=15, verbose=1)"
   ],
   "metadata": {
    "collapsed": false,
    "pycharm": {
     "name": "#%%\n"
    }
   }
  },
  {
   "cell_type": "markdown",
   "source": [
    "#### $\\Delta=100$\n",
    "##### $m=2$"
   ],
   "metadata": {
    "collapsed": false,
    "pycharm": {
     "name": "#%% md\n"
    }
   }
  },
  {
   "cell_type": "code",
   "execution_count": 183,
   "outputs": [
    {
     "name": "stdout",
     "output_type": "stream",
     "text": [
      "4735.00\t369.52\t3.16\n",
      "CPU times: total: 0 ns\n",
      "Wall time: 6min 7s\n"
     ]
    },
    {
     "data": {
      "text/plain": "(369.5227, 3.163433999385952)"
     },
     "execution_count": 183,
     "metadata": {},
     "output_type": "execute_result"
    }
   ],
   "source": [
    "%%time\n",
    "n_device, n_observe = 10, 2\n",
    "n_ic = 500\n",
    "distribution_type = [[1, 2, 3, 4, 5]] * 10\n",
    "r_server = 2\n",
    "r_device = [1]*10\n",
    "h = 4735\n",
    "delta = 100\n",
    "dm.arl_proposed(n_device=n_device, n_observe=n_observe, distribution_type=distribution_type, n_ic=n_ic,\n",
    "                r_device=r_device, r_server=r_server,ARL_dict=ARL_dict, h=h, delta=delta, N=10000, n_thread=15,\n",
    "                verbose=1)"
   ],
   "metadata": {
    "collapsed": false,
    "pycharm": {
     "name": "#%%\n"
    }
   }
  },
  {
   "cell_type": "code",
   "execution_count": 8,
   "outputs": [
    {
     "name": "stdout",
     "output_type": "stream",
     "text": [
      "4735.00\t15.26\t0.08\n",
      "4735.00\t7.12\t0.02\n",
      "4735.00\t5.22\t0.01\n",
      "CPU times: total: 93.8 ms\n",
      "Wall time: 1min 32s\n"
     ]
    }
   ],
   "source": [
    "%%time\n",
    "for size_shift in size_list:\n",
    "    dm.arl_proposed(n_device=n_device, n_observe=n_observe, distribution_type=distribution_type, n_ic=n_ic,\n",
    "                    r_device=r_device, r_server=r_server, ARL_dict=ARL_dict, h=h, delta=delta, n_shift=2,\n",
    "                    size_shift=size_shift, t_shift=30, N=10000, n_thread=15, verbose=1)"
   ],
   "metadata": {
    "collapsed": false,
    "pycharm": {
     "name": "#%%\n"
    }
   }
  },
  {
   "cell_type": "markdown",
   "source": [
    "##### $m=4$"
   ],
   "metadata": {
    "collapsed": false,
    "pycharm": {
     "name": "#%% md\n"
    }
   }
  },
  {
   "cell_type": "code",
   "execution_count": null,
   "outputs": [],
   "source": [
    "%%time\n",
    "n_device, n_observe = 10, 4\n",
    "n_ic = 500\n",
    "distribution_type = [[1, 2, 3, 4, 5]] * 10\n",
    "r_server = 2\n",
    "r_device = [1]*10\n",
    "h = 4737\n",
    "delta = 100\n",
    "dm.arl_proposed(n_device=n_device, n_observe=n_observe, distribution_type=distribution_type, n_ic=n_ic,\n",
    "                r_device=r_device, r_server=r_server,ARL_dict=ARL_dict, h=h, delta=delta, N=10000, n_thread=15,\n",
    "                verbose=1)"
   ],
   "metadata": {
    "collapsed": false,
    "pycharm": {
     "name": "#%%\n"
    }
   }
  },
  {
   "cell_type": "code",
   "execution_count": 9,
   "outputs": [
    {
     "name": "stdout",
     "output_type": "stream",
     "text": [
      "4737.00\t14.93\t0.08\n",
      "4737.00\t6.76\t0.03\n",
      "4737.00\t4.72\t0.01\n",
      "CPU times: total: 0 ns\n",
      "Wall time: 1min 32s\n"
     ]
    }
   ],
   "source": [
    "%%time\n",
    "for size_shift in size_list:\n",
    "    dm.arl_proposed(n_device=n_device, n_observe=n_observe, distribution_type=distribution_type, n_ic=n_ic,\n",
    "                    r_device=r_device, r_server=r_server, ARL_dict=ARL_dict, h=h, delta=delta, n_shift=2,\n",
    "                    size_shift=size_shift, t_shift=30, N=10000, n_thread=15, verbose=1)"
   ],
   "metadata": {
    "collapsed": false,
    "pycharm": {
     "name": "#%%\n"
    }
   }
  },
  {
   "cell_type": "markdown",
   "source": [
    "##### $m=6$"
   ],
   "metadata": {
    "collapsed": false,
    "pycharm": {
     "name": "#%% md\n"
    }
   }
  },
  {
   "cell_type": "code",
   "execution_count": 152,
   "outputs": [
    {
     "name": "stdout",
     "output_type": "stream",
     "text": [
      "4740.00\t369.96\t3.12\n",
      "CPU times: total: 15.6 ms\n",
      "Wall time: 5min 15s\n"
     ]
    },
    {
     "data": {
      "text/plain": "(369.956, 3.1224184355079636)"
     },
     "execution_count": 152,
     "metadata": {},
     "output_type": "execute_result"
    }
   ],
   "source": [
    "%%time\n",
    "n_device, n_observe = 10, 6\n",
    "n_ic = 500\n",
    "distribution_type = [[1, 2, 3, 4, 5]] * 10\n",
    "r_server = 2\n",
    "r_device = [1]*10\n",
    "h = 4740\n",
    "delta = 100\n",
    "dm.arl_proposed(n_device=n_device, n_observe=n_observe, distribution_type=distribution_type, n_ic=n_ic,\n",
    "                r_device=r_device, r_server=r_server,ARL_dict=ARL_dict, h=h, delta=delta, N=10000, n_thread=15,\n",
    "                verbose=1)"
   ],
   "metadata": {
    "collapsed": false,
    "pycharm": {
     "name": "#%%\n"
    }
   }
  },
  {
   "cell_type": "code",
   "execution_count": 10,
   "outputs": [
    {
     "name": "stdout",
     "output_type": "stream",
     "text": [
      "4740.00\t14.88\t0.08\n",
      "4740.00\t6.73\t0.03\n",
      "4740.00\t4.68\t0.01\n",
      "CPU times: total: 0 ns\n",
      "Wall time: 1min 31s\n"
     ]
    }
   ],
   "source": [
    "%%time\n",
    "for size_shift in size_list:\n",
    "    dm.arl_proposed(n_device=n_device, n_observe=n_observe, distribution_type=distribution_type, n_ic=n_ic,\n",
    "                    r_device=r_device, r_server=r_server, ARL_dict=ARL_dict, h=h, delta=delta, n_shift=2,\n",
    "                    size_shift=size_shift, t_shift=30, N=10000, n_thread=15, verbose=1)"
   ],
   "metadata": {
    "collapsed": false,
    "pycharm": {
     "name": "#%%\n"
    }
   }
  },
  {
   "cell_type": "markdown",
   "source": [
    "#### $\\Delta=150$\n",
    "##### $m=2$"
   ],
   "metadata": {
    "collapsed": false,
    "pycharm": {
     "name": "#%% md\n"
    }
   }
  },
  {
   "cell_type": "markdown",
   "source": [
    "##### $m=6$"
   ],
   "metadata": {
    "collapsed": false,
    "pycharm": {
     "name": "#%% md\n"
    }
   }
  },
  {
   "cell_type": "code",
   "execution_count": 158,
   "outputs": [
    {
     "name": "stdout",
     "output_type": "stream",
     "text": [
      "4730.00\t374.04\t3.14\n",
      "CPU times: total: 31.2 ms\n",
      "Wall time: 5min 24s\n"
     ]
    },
    {
     "data": {
      "text/plain": "(374.0363, 3.1388789715806182)"
     },
     "execution_count": 158,
     "metadata": {},
     "output_type": "execute_result"
    }
   ],
   "source": [
    "%%time\n",
    "n_device, n_observe = 10, 6\n",
    "n_ic = 500\n",
    "distribution_type = [[1, 2, 3, 4, 5]] * 10\n",
    "r_server = 2\n",
    "r_device = [1]*10\n",
    "h = 4720\n",
    "delta = 150\n",
    "dm.arl_proposed(n_device=n_device, n_observe=n_observe, distribution_type=distribution_type, n_ic=n_ic,\n",
    "                r_device=r_device, r_server=r_server,ARL_dict=ARL_dict, h=h, delta=delta, N=10000, n_thread=15,\n",
    "                verbose=1)"
   ],
   "metadata": {
    "collapsed": false,
    "pycharm": {
     "name": "#%%\n"
    }
   }
  },
  {
   "cell_type": "code",
   "execution_count": 201,
   "outputs": [
    {
     "name": "stdout",
     "output_type": "stream",
     "text": [
      "4720.00\t15.09\t0.08\n",
      "4720.00\t6.71\t0.03\n",
      "4720.00\t4.69\t0.01\n",
      "CPU times: total: 172 ms\n",
      "Wall time: 2min 7s\n"
     ]
    }
   ],
   "source": [
    "%%time\n",
    "size_list = [1, 2, 3]\n",
    "for size_shift in size_list:\n",
    "    dm.arl_proposed(n_device=n_device, n_observe=n_observe, distribution_type=distribution_type, n_ic=n_ic,\n",
    "                    r_device=r_device, r_server=r_server, ARL_dict=ARL_dict, h=h, delta=delta, n_shift=10,\n",
    "                    size_shift=size_shift, t_shift=30, N=10000, n_thread=15, verbose=1)"
   ],
   "metadata": {
    "collapsed": false,
    "pycharm": {
     "name": "#%%\n"
    }
   }
  },
  {
   "cell_type": "markdown",
   "source": [
    "#### $\\Delta=1$\n",
    "##### $m=4$"
   ],
   "metadata": {
    "collapsed": false,
    "pycharm": {
     "name": "#%% md\n"
    }
   }
  },
  {
   "cell_type": "code",
   "execution_count": 219,
   "outputs": [
    {
     "name": "stdout",
     "output_type": "stream",
     "text": [
      "4690.00\t368.44\t3.12\n",
      "CPU times: total: 78.1 ms\n",
      "Wall time: 5min 12s\n"
     ]
    },
    {
     "data": {
      "text/plain": "(368.4362, 3.118272780395583)"
     },
     "execution_count": 219,
     "metadata": {},
     "output_type": "execute_result"
    }
   ],
   "source": [
    "%%time\n",
    "n_device, n_observe = 10, 4\n",
    "n_ic = 500\n",
    "distribution_type = [[1, 2, 3, 4, 5]] * 10\n",
    "r_server = 2\n",
    "r_device = [1]*10\n",
    "h = 4690\n",
    "delta = 1\n",
    "dm.arl_proposed(n_device=n_device, n_observe=n_observe, distribution_type=distribution_type, n_ic=n_ic, r_device=r_device,\n",
    "                r_server=r_server, ARL_dict=ARL_dict, h=h, delta=delta, N=10000, n_thread=26, verbose=1)"
   ],
   "metadata": {
    "collapsed": false,
    "pycharm": {
     "name": "#%%\n"
    }
   }
  },
  {
   "cell_type": "code",
   "execution_count": 11,
   "outputs": [
    {
     "name": "stdout",
     "output_type": "stream",
     "text": [
      "4690.00\t15.80\t0.08\n",
      "4690.00\t7.84\t0.04\n",
      "4690.00\t5.80\t0.03\n",
      "CPU times: total: 0 ns\n",
      "Wall time: 1min 33s\n"
     ]
    }
   ],
   "source": [
    "%%time\n",
    "for size_shift in size_list:\n",
    "    dm.arl_proposed(n_device=n_device, n_observe=n_observe, distribution_type=distribution_type, n_ic=n_ic,\n",
    "                    r_device=r_device, r_server=r_server, ARL_dict=ARL_dict, h=h, delta=delta, n_shift=2,\n",
    "                    size_shift=size_shift, t_shift=30, N=10000, n_thread=15, verbose=1)"
   ],
   "metadata": {
    "collapsed": false,
    "pycharm": {
     "name": "#%%\n"
    }
   }
  },
  {
   "cell_type": "markdown",
   "source": [
    "##### $m=6$"
   ],
   "metadata": {
    "collapsed": false,
    "pycharm": {
     "name": "#%% md\n"
    }
   }
  },
  {
   "cell_type": "code",
   "execution_count": 228,
   "outputs": [
    {
     "name": "stdout",
     "output_type": "stream",
     "text": [
      "4710.00\t370.53\t3.13\n",
      "CPU times: total: 93.8 ms\n",
      "Wall time: 5min 8s\n"
     ]
    },
    {
     "data": {
      "text/plain": "(370.5341, 3.128398773129634)"
     },
     "execution_count": 228,
     "metadata": {},
     "output_type": "execute_result"
    }
   ],
   "source": [
    "%%time\n",
    "n_device, n_observe = 10, 6\n",
    "n_ic = 500\n",
    "distribution_type = [[1, 2, 3, 4, 5]] * 10\n",
    "r_server = 2\n",
    "r_device = [1]*10\n",
    "h = 4710\n",
    "delta = 1\n",
    "dm.arl_proposed(n_device=n_device, n_observe=n_observe, distribution_type=distribution_type, n_ic=n_ic, r_device=r_device,\n",
    "                r_server=r_server, ARL_dict=ARL_dict, h=h, delta=delta, N=10000, n_thread=26, verbose=1)"
   ],
   "metadata": {
    "collapsed": false,
    "pycharm": {
     "name": "#%%\n"
    }
   }
  },
  {
   "cell_type": "code",
   "execution_count": 12,
   "outputs": [
    {
     "name": "stdout",
     "output_type": "stream",
     "text": [
      "4710.00\t15.10\t0.08\n",
      "4710.00\t6.99\t0.03\n",
      "4710.00\t4.94\t0.01\n",
      "CPU times: total: 0 ns\n",
      "Wall time: 1min 32s\n"
     ]
    }
   ],
   "source": [
    "%%time\n",
    "for size_shift in size_list:\n",
    "    dm.arl_proposed(n_device=n_device, n_observe=n_observe, distribution_type=distribution_type, n_ic=n_ic,\n",
    "                    r_device=r_device, r_server=r_server, ARL_dict=ARL_dict, h=h, delta=delta, n_shift=2,\n",
    "                    size_shift=size_shift, t_shift=30, N=10000, n_thread=15, verbose=1)"
   ],
   "metadata": {
    "collapsed": false,
    "pycharm": {
     "name": "#%%\n"
    }
   }
  },
  {
   "cell_type": "markdown",
   "source": [
    "#### $\\Delta=400$\n",
    "##### $m=2$"
   ],
   "metadata": {
    "collapsed": false,
    "pycharm": {
     "name": "#%% md\n"
    }
   }
  },
  {
   "cell_type": "code",
   "execution_count": 232,
   "outputs": [
    {
     "name": "stdout",
     "output_type": "stream",
     "text": [
      "4550.00\t369.39\t3.13\n",
      "CPU times: total: 172 ms\n",
      "Wall time: 5min 9s\n"
     ]
    },
    {
     "data": {
      "text/plain": "(369.3908, 3.1336132255809748)"
     },
     "execution_count": 232,
     "metadata": {},
     "output_type": "execute_result"
    }
   ],
   "source": [
    "%%time\n",
    "n_device, n_observe = 10, 2\n",
    "n_ic = 500\n",
    "distribution_type = [[1, 2, 3, 4, 5]] * 10\n",
    "r_server = 2\n",
    "r_device = [1]*10\n",
    "h = 4550\n",
    "delta = 400\n",
    "dm.arl_proposed(n_device=n_device, n_observe=n_observe, distribution_type=distribution_type, n_ic=n_ic, r_device=r_device,\n",
    "                r_server=r_server, ARL_dict=ARL_dict, h=h, delta=delta, N=10000, n_thread=26, verbose=1)"
   ],
   "metadata": {
    "collapsed": false,
    "pycharm": {
     "name": "#%%\n"
    }
   }
  },
  {
   "cell_type": "code",
   "execution_count": 13,
   "outputs": [
    {
     "name": "stdout",
     "output_type": "stream",
     "text": [
      "4550.00\t15.40\t0.07\n",
      "4550.00\t7.54\t0.02\n",
      "4550.00\t5.65\t0.01\n",
      "CPU times: total: 15.6 ms\n",
      "Wall time: 1min 34s\n"
     ]
    }
   ],
   "source": [
    "%%time\n",
    "for size_shift in size_list:\n",
    "    dm.arl_proposed(n_device=n_device, n_observe=n_observe, distribution_type=distribution_type, n_ic=n_ic,\n",
    "                    r_device=r_device, r_server=r_server, ARL_dict=ARL_dict, h=h, delta=delta, n_shift=2,\n",
    "                    size_shift=size_shift, t_shift=30, N=10000, n_thread=15, verbose=1)"
   ],
   "metadata": {
    "collapsed": false,
    "pycharm": {
     "name": "#%%\n"
    }
   }
  },
  {
   "cell_type": "markdown",
   "source": [
    "##### $m=4$"
   ],
   "metadata": {
    "collapsed": false,
    "pycharm": {
     "name": "#%% md\n"
    }
   }
  },
  {
   "cell_type": "code",
   "execution_count": 246,
   "outputs": [
    {
     "name": "stdout",
     "output_type": "stream",
     "text": [
      "4695.00\t369.77\t3.16\n",
      "CPU times: total: 93.8 ms\n",
      "Wall time: 7min 46s\n"
     ]
    },
    {
     "data": {
      "text/plain": "(369.7737, 3.162182858221675)"
     },
     "execution_count": 246,
     "metadata": {},
     "output_type": "execute_result"
    }
   ],
   "source": [
    "%%time\n",
    "n_device, n_observe = 10, 4\n",
    "n_ic = 500\n",
    "distribution_type = [[1, 2, 3, 4, 5]] * 10\n",
    "r_server = 2\n",
    "r_device = [1]*10\n",
    "h = 4695\n",
    "delta = 400\n",
    "dm.arl_proposed(n_device=n_device, n_observe=n_observe, distribution_type=distribution_type, n_ic=n_ic, r_device=r_device,\n",
    "                r_server=r_server, ARL_dict=ARL_dict, h=h, delta=delta, N=10000, n_thread=26, verbose=1)"
   ],
   "metadata": {
    "collapsed": false,
    "pycharm": {
     "name": "#%%\n"
    }
   }
  },
  {
   "cell_type": "code",
   "execution_count": 14,
   "outputs": [
    {
     "name": "stdout",
     "output_type": "stream",
     "text": [
      "4695.00\t14.97\t0.08\n",
      "4695.00\t6.76\t0.03\n",
      "4695.00\t4.72\t0.01\n",
      "CPU times: total: 0 ns\n",
      "Wall time: 1min 31s\n"
     ]
    }
   ],
   "source": [
    "%%time\n",
    "for size_shift in size_list:\n",
    "    dm.arl_proposed(n_device=n_device, n_observe=n_observe, distribution_type=distribution_type, n_ic=n_ic,\n",
    "                    r_device=r_device, r_server=r_server, ARL_dict=ARL_dict, h=h, delta=delta, n_shift=2,\n",
    "                    size_shift=size_shift, t_shift=30, N=10000, n_thread=15, verbose=1)"
   ],
   "metadata": {
    "collapsed": false,
    "pycharm": {
     "name": "#%%\n"
    }
   }
  },
  {
   "cell_type": "markdown",
   "source": [
    "##### $m=6$"
   ],
   "metadata": {
    "collapsed": false,
    "pycharm": {
     "name": "#%% md\n"
    }
   }
  },
  {
   "cell_type": "code",
   "execution_count": 249,
   "outputs": [
    {
     "name": "stdout",
     "output_type": "stream",
     "text": [
      "4695.00\t369.12\t3.17\n",
      "CPU times: total: 125 ms\n",
      "Wall time: 11min 13s\n"
     ]
    },
    {
     "data": {
      "text/plain": "(369.116, 3.169397222564568)"
     },
     "execution_count": 249,
     "metadata": {},
     "output_type": "execute_result"
    }
   ],
   "source": [
    "%%time\n",
    "n_device, n_observe = 10, 6\n",
    "n_ic = 500\n",
    "distribution_type = [[1, 2, 3, 4, 5]] * 10\n",
    "r_server = 2\n",
    "r_device = [1]*10\n",
    "h = 4695\n",
    "delta = 400\n",
    "dm.arl_proposed(n_device=n_device, n_observe=n_observe, distribution_type=distribution_type, n_ic=n_ic, r_device=r_device,\n",
    "                r_server=r_server, ARL_dict=ARL_dict, h=h, delta=delta, N=10000, n_thread=26, verbose=1)"
   ],
   "metadata": {
    "collapsed": false,
    "pycharm": {
     "name": "#%%\n"
    }
   }
  },
  {
   "cell_type": "code",
   "execution_count": 15,
   "outputs": [
    {
     "name": "stdout",
     "output_type": "stream",
     "text": [
      "4695.00\t14.92\t0.08\n",
      "4695.00\t6.72\t0.03\n",
      "4695.00\t4.69\t0.01\n",
      "CPU times: total: 0 ns\n",
      "Wall time: 1min 33s\n"
     ]
    }
   ],
   "source": [
    "%%time\n",
    "for size_shift in size_list:\n",
    "    dm.arl_proposed(n_device=n_device, n_observe=n_observe, distribution_type=distribution_type, n_ic=n_ic,\n",
    "                    r_device=r_device, r_server=r_server, ARL_dict=ARL_dict, h=h, delta=delta, n_shift=2,\n",
    "                    size_shift=size_shift, t_shift=30, N=10000, n_thread=15, verbose=1)"
   ],
   "metadata": {
    "collapsed": false,
    "pycharm": {
     "name": "#%%\n"
    }
   }
  },
  {
   "cell_type": "markdown",
   "source": [
    "## Distinct edge devices"
   ],
   "metadata": {
    "collapsed": false,
    "pycharm": {
     "name": "#%% md\n"
    }
   }
  },
  {
   "cell_type": "code",
   "execution_count": 5,
   "outputs": [],
   "source": [
    "A_5_1 = np.load('data/A_5_1.npy')\n",
    "A_10_2 = np.load('data/A_10_2.npy')\n",
    "ARL_dict = {(5, 1):A_5_1, (10, 2):A_10_2}"
   ],
   "metadata": {
    "collapsed": false,
    "pycharm": {
     "name": "#%%\n"
    }
   }
  },
  {
   "cell_type": "markdown",
   "source": [
    "#### $\\Delta=1000$\n",
    "##### $m=2$"
   ],
   "metadata": {
    "collapsed": false,
    "pycharm": {
     "name": "#%% md\n"
    }
   }
  },
  {
   "cell_type": "code",
   "execution_count": 255,
   "outputs": [
    {
     "name": "stdout",
     "output_type": "stream",
     "text": [
      "4470.00\t371.03\t3.02\n",
      "CPU times: total: 109 ms\n",
      "Wall time: 6min 28s\n"
     ]
    },
    {
     "data": {
      "text/plain": "(371.0281, 3.019547544093154)"
     },
     "execution_count": 255,
     "metadata": {},
     "output_type": "execute_result"
    }
   ],
   "source": [
    "%%time\n",
    "n_device, n_observe = 10, 2\n",
    "n_ic = 500\n",
    "distribution_type = [[1, 2, 3, 4, 5]] * 5 + [[1, 2, 3, 4, 5, 1, 2, 3, 4, 5]] * 5\n",
    "r_server = 2\n",
    "r_device = [1] * 5 + [2] * 5\n",
    "h = 4470\n",
    "delta = 1000\n",
    "dm.arl_proposed(n_device=n_device, n_observe=n_observe, distribution_type=distribution_type, n_ic=n_ic, r_device=r_device,\n",
    "                r_server=r_server, ARL_dict=ARL_dict, h=h, delta=delta, N=10000, n_thread=15, verbose=1)"
   ],
   "metadata": {
    "collapsed": false,
    "pycharm": {
     "name": "#%%\n"
    }
   }
  },
  {
   "cell_type": "code",
   "execution_count": 18,
   "outputs": [
    {
     "name": "stdout",
     "output_type": "stream",
     "text": [
      "4470.00\t18.37\t0.09\n",
      "4470.00\t9.13\t0.03\n",
      "4470.00\t6.84\t0.02\n",
      "CPU times: total: 0 ns\n",
      "Wall time: 2min 23s\n"
     ]
    }
   ],
   "source": [
    "%%time\n",
    "for size_shift in size_list:\n",
    "    dm.arl_proposed(n_device=n_device, n_observe=n_observe, distribution_type=distribution_type, n_ic=n_ic,\n",
    "                    r_device=r_device, r_server=r_server, ARL_dict=ARL_dict, h=h, delta=delta, n_shift=2,\n",
    "                    size_shift=size_shift, t_shift=30, N=10000, n_thread=14, verbose=1)"
   ],
   "metadata": {
    "collapsed": false,
    "pycharm": {
     "name": "#%%\n"
    }
   }
  },
  {
   "cell_type": "markdown",
   "source": [
    "##### $m=4$"
   ],
   "metadata": {
    "collapsed": false,
    "pycharm": {
     "name": "#%% md\n"
    }
   }
  },
  {
   "cell_type": "code",
   "execution_count": 280,
   "outputs": [
    {
     "name": "stdout",
     "output_type": "stream",
     "text": [
      "4970.00\t370.00\t3.04\n",
      "CPU times: total: 0 ns\n",
      "Wall time: 6min 47s\n"
     ]
    },
    {
     "data": {
      "text/plain": "(370.0026, 3.0376945302850977)"
     },
     "execution_count": 280,
     "metadata": {},
     "output_type": "execute_result"
    }
   ],
   "source": [
    "%%time\n",
    "n_device, n_observe = 10, 4\n",
    "n_ic = 500\n",
    "distribution_type = [[1, 2, 3, 4, 5]] * 5 + [[1, 2, 3, 4, 5, 1, 2, 3, 4, 5]] * 5\n",
    "r_server = 2\n",
    "r_device = [1] * 5 + [2] * 5\n",
    "h = 4970\n",
    "delta = 1000\n",
    "dm.arl_proposed(n_device=n_device, n_observe=n_observe, distribution_type=distribution_type, n_ic=n_ic, r_device=r_device,\n",
    "                r_server=r_server, ARL_dict=ARL_dict, h=h, delta=delta, N=10000, n_thread=14, verbose=1)"
   ],
   "metadata": {
    "collapsed": false,
    "pycharm": {
     "name": "#%%\n"
    }
   }
  },
  {
   "cell_type": "code",
   "execution_count": 19,
   "outputs": [
    {
     "name": "stdout",
     "output_type": "stream",
     "text": [
      "4970.00\t17.47\t0.09\n",
      "4970.00\t8.01\t0.03\n",
      "4970.00\t5.59\t0.02\n",
      "CPU times: total: 31.2 ms\n",
      "Wall time: 2min 22s\n"
     ]
    }
   ],
   "source": [
    "%%time\n",
    "for size_shift in size_list:\n",
    "    dm.arl_proposed(n_device=n_device, n_observe=n_observe, distribution_type=distribution_type, n_ic=n_ic,\n",
    "                    r_device=r_device, r_server=r_server, ARL_dict=ARL_dict, h=h, delta=delta, n_shift=2,\n",
    "                    size_shift=size_shift, t_shift=30, N=10000, n_thread=14, verbose=1)"
   ],
   "metadata": {
    "collapsed": false,
    "pycharm": {
     "name": "#%%\n"
    }
   }
  },
  {
   "cell_type": "markdown",
   "source": [
    "##### $m=6$"
   ],
   "metadata": {
    "collapsed": false,
    "pycharm": {
     "name": "#%% md\n"
    }
   }
  },
  {
   "cell_type": "code",
   "execution_count": 285,
   "outputs": [
    {
     "name": "stdout",
     "output_type": "stream",
     "text": [
      "5000.00\t369.10\t3.01\n",
      "CPU times: total: 15.6 ms\n",
      "Wall time: 7min 51s\n"
     ]
    },
    {
     "data": {
      "text/plain": "(369.1038, 3.0119429713319605)"
     },
     "execution_count": 285,
     "metadata": {},
     "output_type": "execute_result"
    }
   ],
   "source": [
    "%%time\n",
    "n_device, n_observe = 10, 6\n",
    "n_ic = 500\n",
    "distribution_type = [[1, 2, 3, 4, 5]] * 5 + [[1, 2, 3, 4, 5, 1, 2, 3, 4, 5]] * 5\n",
    "r_server = 2\n",
    "r_device = [1] * 5 + [2] * 5\n",
    "h = 5000\n",
    "delta = 1000\n",
    "dm.arl_proposed(n_device=n_device, n_observe=n_observe, distribution_type=distribution_type, n_ic=n_ic, r_device=r_device,\n",
    "                r_server=r_server, ARL_dict=ARL_dict, h=h, delta=delta, N=10000, n_thread=14, verbose=1)"
   ],
   "metadata": {
    "collapsed": false,
    "pycharm": {
     "name": "#%%\n"
    }
   }
  },
  {
   "cell_type": "code",
   "execution_count": 20,
   "outputs": [
    {
     "name": "stdout",
     "output_type": "stream",
     "text": [
      "5000.00\t17.42\t0.09\n",
      "5000.00\t7.87\t0.03\n",
      "5000.00\t5.54\t0.02\n",
      "CPU times: total: 62.5 ms\n",
      "Wall time: 2min 17s\n"
     ]
    }
   ],
   "source": [
    "%%time\n",
    "for size_shift in size_list:\n",
    "    dm.arl_proposed(n_device=n_device, n_observe=n_observe, distribution_type=distribution_type, n_ic=n_ic,\n",
    "                    r_device=r_device, r_server=r_server, ARL_dict=ARL_dict, h=h, delta=delta, n_shift=2,\n",
    "                    size_shift=size_shift, t_shift=30, N=10000, n_thread=14, verbose=1)"
   ],
   "metadata": {
    "collapsed": false,
    "pycharm": {
     "name": "#%%\n"
    }
   }
  },
  {
   "cell_type": "markdown",
   "source": [
    "#### $\\Delta=400$\n",
    "##### $m=2$"
   ],
   "metadata": {
    "collapsed": false,
    "pycharm": {
     "name": "#%% md\n"
    }
   }
  },
  {
   "cell_type": "code",
   "execution_count": 294,
   "outputs": [
    {
     "name": "stdout",
     "output_type": "stream",
     "text": [
      "4945.00\t372.48\t3.07\n",
      "CPU times: total: 109 ms\n",
      "Wall time: 6min 40s\n"
     ]
    },
    {
     "data": {
      "text/plain": "(372.4759, 3.069176567406802)"
     },
     "execution_count": 294,
     "metadata": {},
     "output_type": "execute_result"
    }
   ],
   "source": [
    "%%time\n",
    "n_device, n_observe = 10, 2\n",
    "n_ic = 500\n",
    "distribution_type = [[1, 2, 3, 4, 5]] * 5 + [[1, 2, 3, 4, 5, 1, 2, 3, 4, 5]] * 5\n",
    "r_server = 2\n",
    "r_device = [1] * 5 + [2] * 5\n",
    "h = 4945\n",
    "delta = 400\n",
    "dm.arl_proposed(n_device=n_device, n_observe=n_observe, distribution_type=distribution_type, n_ic=n_ic, r_device=r_device,\n",
    "                r_server=r_server, ARL_dict=ARL_dict, h=h, delta=delta, N=10000, n_thread=15, verbose=1)"
   ],
   "metadata": {
    "collapsed": false,
    "pycharm": {
     "name": "#%%\n"
    }
   }
  },
  {
   "cell_type": "code",
   "execution_count": 21,
   "outputs": [
    {
     "name": "stdout",
     "output_type": "stream",
     "text": [
      "4945.00\t17.91\t0.09\n",
      "4945.00\t8.60\t0.03\n",
      "4945.00\t6.40\t0.02\n",
      "CPU times: total: 31.2 ms\n",
      "Wall time: 2min 20s\n"
     ]
    }
   ],
   "source": [
    "%%time\n",
    "for size_shift in size_list:\n",
    "    dm.arl_proposed(n_device=n_device, n_observe=n_observe, distribution_type=distribution_type, n_ic=n_ic,\n",
    "                    r_device=r_device, r_server=r_server, ARL_dict=ARL_dict, h=h, delta=delta, n_shift=2,\n",
    "                    size_shift=size_shift, t_shift=30, N=10000, n_thread=15, verbose=1)"
   ],
   "metadata": {
    "collapsed": false,
    "pycharm": {
     "name": "#%%\n"
    }
   }
  },
  {
   "cell_type": "markdown",
   "source": [
    "##### $m=4$"
   ],
   "metadata": {
    "collapsed": false,
    "pycharm": {
     "name": "#%% md\n"
    }
   }
  },
  {
   "cell_type": "code",
   "execution_count": 292,
   "outputs": [
    {
     "name": "stdout",
     "output_type": "stream",
     "text": [
      "4950.00\t368.34\t3.02\n",
      "CPU times: total: 0 ns\n",
      "Wall time: 6min 42s\n"
     ]
    },
    {
     "data": {
      "text/plain": "(368.3396, 3.0194017995596414)"
     },
     "execution_count": 292,
     "metadata": {},
     "output_type": "execute_result"
    }
   ],
   "source": [
    "%%time\n",
    "n_device, n_observe = 10, 4\n",
    "n_ic = 500\n",
    "distribution_type = [[1, 2, 3, 4, 5]] * 5 + [[1, 2, 3, 4, 5, 1, 2, 3, 4, 5]] * 5\n",
    "r_server = 2\n",
    "r_device = [1] * 5 + [2] * 5\n",
    "h = 4950\n",
    "delta = 400\n",
    "dm.arl_proposed(n_device=n_device, n_observe=n_observe, distribution_type=distribution_type, n_ic=n_ic, r_device=r_device,\n",
    "                r_server=r_server, ARL_dict=ARL_dict, h=h, delta=delta, N=10000, n_thread=15, verbose=1)"
   ],
   "metadata": {
    "collapsed": false,
    "pycharm": {
     "name": "#%%\n"
    }
   }
  },
  {
   "cell_type": "code",
   "execution_count": 22,
   "outputs": [
    {
     "name": "stdout",
     "output_type": "stream",
     "text": [
      "4950.00\t17.36\t0.09\n",
      "4950.00\t7.88\t0.03\n",
      "4950.00\t5.58\t0.02\n",
      "CPU times: total: 62.5 ms\n",
      "Wall time: 2min 24s\n"
     ]
    }
   ],
   "source": [
    "%%time\n",
    "for size_shift in size_list:\n",
    "    dm.arl_proposed(n_device=n_device, n_observe=n_observe, distribution_type=distribution_type, n_ic=n_ic,\n",
    "                    r_device=r_device, r_server=r_server, ARL_dict=ARL_dict, h=h, delta=delta, n_shift=2,\n",
    "                    size_shift=size_shift, t_shift=30, N=10000, n_thread=15, verbose=1)"
   ],
   "metadata": {
    "collapsed": false,
    "pycharm": {
     "name": "#%%\n"
    }
   }
  },
  {
   "cell_type": "markdown",
   "source": [
    "##### $m=6$"
   ],
   "metadata": {
    "collapsed": false,
    "pycharm": {
     "name": "#%% md\n"
    }
   }
  },
  {
   "cell_type": "code",
   "execution_count": 302,
   "outputs": [
    {
     "name": "stdout",
     "output_type": "stream",
     "text": [
      "4980.00\t371.96\t3.04\n",
      "CPU times: total: 15.6 ms\n",
      "Wall time: 6min 30s\n"
     ]
    },
    {
     "data": {
      "text/plain": "(371.959, 3.035027570204264)"
     },
     "execution_count": 302,
     "metadata": {},
     "output_type": "execute_result"
    }
   ],
   "source": [
    "%%time\n",
    "n_device, n_observe = 10, 6\n",
    "n_ic = 500\n",
    "distribution_type = [[1, 2, 3, 4, 5]] * 5 + [[1, 2, 3, 4, 5, 1, 2, 3, 4, 5]] * 5\n",
    "r_server = 2\n",
    "r_device = [1] * 5 + [2] * 5\n",
    "h = 4980\n",
    "delta = 400\n",
    "dm.arl_proposed(n_device=n_device, n_observe=n_observe, distribution_type=distribution_type, n_ic=n_ic, r_device=r_device,\n",
    "                r_server=r_server, ARL_dict=ARL_dict, h=h, delta=delta, N=10000, n_thread=15, verbose=1)"
   ],
   "metadata": {
    "collapsed": false,
    "pycharm": {
     "name": "#%%\n"
    }
   }
  },
  {
   "cell_type": "code",
   "execution_count": 23,
   "outputs": [
    {
     "name": "stdout",
     "output_type": "stream",
     "text": [
      "4980.00\t17.22\t0.09\n",
      "4980.00\t7.87\t0.03\n",
      "4980.00\t5.55\t0.02\n",
      "CPU times: total: 31.2 ms\n",
      "Wall time: 2min 21s\n"
     ]
    }
   ],
   "source": [
    "%%time\n",
    "for size_shift in size_list:\n",
    "    dm.arl_proposed(n_device=n_device, n_observe=n_observe, distribution_type=distribution_type, n_ic=n_ic,\n",
    "                    r_device=r_device, r_server=r_server, ARL_dict=ARL_dict, h=h, delta=delta, n_shift=2,\n",
    "                    size_shift=size_shift, t_shift=30, N=10000, n_thread=15, verbose=1)"
   ],
   "metadata": {
    "collapsed": false,
    "pycharm": {
     "name": "#%%\n"
    }
   }
  },
  {
   "cell_type": "markdown",
   "source": [
    "## Validation of the properties"
   ],
   "metadata": {
    "collapsed": false,
    "pycharm": {
     "name": "#%% md\n"
    }
   }
  },
  {
   "cell_type": "code",
   "execution_count": 12,
   "outputs": [
    {
     "data": {
      "text/plain": "<module 'decentralized_monitoring' from 'C:\\\\Document_Z\\\\Code\\\\iot-monitoring\\\\decentralized_monitoring.py'>"
     },
     "execution_count": 12,
     "metadata": {},
     "output_type": "execute_result"
    }
   ],
   "source": [
    "imp.reload(dm)"
   ],
   "metadata": {
    "collapsed": false,
    "pycharm": {
     "name": "#%%\n"
    }
   }
  },
  {
   "cell_type": "code",
   "execution_count": 3,
   "outputs": [],
   "source": [
    "n_device, n_observe = 10, 2\n",
    "n_ic = 500\n",
    "distribution_type = [[1, 2, 3, 4, 5]] * 5 + [[1, 2, 3, 4, 5, 1, 2, 3, 4, 5]] * 5\n",
    "r_server = 2\n",
    "r_device = [1] * 5 + [2] * 5\n",
    "h = 10**10\n",
    "delta = 400"
   ],
   "metadata": {
    "collapsed": false,
    "pycharm": {
     "name": "#%%\n"
    }
   }
  },
  {
   "cell_type": "code",
   "execution_count": 22,
   "outputs": [],
   "source": [
    "t1 = 500\n",
    "t2 = 1000\n",
    "RL, Observe_history, shift_idx = dm.rl_proposed(n_device=n_device, n_observe=n_observe, distribution_type=distribution_type,\n",
    "                                                n_ic=n_ic, r_device=r_device, r_server=r_server, ARL_dict=ARL_dict, h=h,\n",
    "                                                delta=delta, max_rl=t2, debug=True, n_shift=2, t_shift=t1)\n",
    "Observe_history = np.array(Observe_history)"
   ],
   "metadata": {
    "collapsed": false,
    "pycharm": {
     "name": "#%%\n"
    }
   }
  },
  {
   "cell_type": "code",
   "execution_count": 23,
   "outputs": [],
   "source": [
    "Observe_count = np.zeros((10, t2))\n",
    "for i in range(t2):\n",
    "    if i > 0:\n",
    "        Observe_count[:, i] = Observe_count[:, i-1]\n",
    "    for j in range(2):\n",
    "        Observe_count[Observe_history[i, j]-1, i] += 1"
   ],
   "metadata": {
    "collapsed": false,
    "pycharm": {
     "name": "#%%\n"
    }
   }
  },
  {
   "cell_type": "code",
   "execution_count": 24,
   "outputs": [],
   "source": [
    "plt.style.use('default')\n",
    "plt.rcParams[\"font.family\"] = \"Times New Roman\"\n",
    "plt.rcParams['text.usetex'] = True\n",
    "# mpl.rcParams.update({\"axes.grid\" : False})\n",
    "plt.rcParams['axes.grid'] = True\n",
    "plt.rcParams['axes.grid'] = False\n",
    "plt.rcParams['xtick.bottom'] = True\n",
    "plt.rcParams['ytick.left'] = True\n",
    "plt.rcParams.update({'font.size': 12})"
   ],
   "metadata": {
    "collapsed": false,
    "pycharm": {
     "name": "#%%\n"
    }
   }
  },
  {
   "cell_type": "code",
   "execution_count": 33,
   "outputs": [
    {
     "data": {
      "text/plain": "Text(0, 0.5, 'Number of data transmission')"
     },
     "execution_count": 33,
     "metadata": {},
     "output_type": "execute_result"
    },
    {
     "data": {
      "text/plain": "<Figure size 600x450 with 1 Axes>",
      "image/png": "[encoded data removed]"
     },
     "metadata": {},
     "output_type": "display_data"
    }
   ],
   "source": [
    "plt.figure(figsize=(6, 4.5))\n",
    "markers = ['.', 'o', 'v', '^', '<', '>', 's', 'p', '*', 'x']\n",
    "linestyles = ['-', '--', '-.', ':', '-', '--', '-.', ':', '--', '-']\n",
    "for i in range(10):\n",
    "    plt.plot(Observe_count[i], marker=markers[i], label=f'data stream {i+1}', markersize=1, linestyle=linestyles[i])\n",
    "plt.legend()\n",
    "plt.xlabel('$RL$')\n",
    "plt.ylabel('Number of data transmission')"
   ],
   "metadata": {
    "collapsed": false,
    "pycharm": {
     "name": "#%%\n"
    }
   }
  },
  {
   "cell_type": "code",
   "execution_count": 54,
   "outputs": [],
   "source": [
    "%matplotlib qt5\n",
    "from mpl_toolkits.mplot3d import Axes3D\n",
    "fig = plt.figure()\n",
    "ax = fig.add_subplot(111, projection='3d')\n",
    "\n",
    "markers = ['.', 'o', 'v', '^', '<', '>', 's', 'p', '*', 'x']\n",
    "linestyles = ['-', '--', '-.', ':', '-', '--', '-.', ':', '--', '-']\n",
    "\n",
    "x = np.arange(Observe_count.shape[1])  # x values are the indices of each data point\n",
    "for i in range(Observe_count.shape[0]):\n",
    "    y = np.full(Observe_count.shape[1], i+1)  # y values are the same for each line (creating the 3D effect)\n",
    "    z = Observe_count[i]  # z values are your data\n",
    "    ax.plot(x, y, z, linestyle=linestyles[i])\n",
    "\n",
    "for i in [9, 3]:\n",
    "    ax.scatter(500, i, Observe_count[i, 500], color='red', s=30)  # 's' is the size of the marker\n",
    "\n",
    "# ax.text(500, 0, ax.get_zlim()[1], 'shift time', color='red')\n",
    "# ax.set_yticks(np.arange(10))\n",
    "# ax.set_yticklabels([str(i+1) for i in range(10)])\n",
    "ax.set_zlim(0, 600)\n",
    "ax.set_xlabel('$RL$')\n",
    "ax.set_ylabel('Edge device')\n",
    "ax.set_zlabel('Number of data transmission')\n",
    "plt.show()"
   ],
   "metadata": {
    "collapsed": false,
    "pycharm": {
     "name": "#%%\n"
    }
   }
  },
  {
   "cell_type": "code",
   "execution_count": 15,
   "outputs": [
    {
     "name": "stdout",
     "output_type": "stream",
     "text": [
      "[[1798. 3899.]\n",
      " [2890. 5117.]\n",
      " [1831. 3933.]\n",
      " [1884. 3891.]\n",
      " [1769. 3621.]\n",
      " [1997. 3935.]\n",
      " [1795. 3654.]\n",
      " [2448. 4585.]\n",
      " [1815. 3678.]\n",
      " [1773. 3687.]]\n"
     ]
    }
   ],
   "source": [
    "Observe_count = np.zeros((10, 2))\n",
    "for i in range(10):\n",
    "    Observe_count[i][0] = np.sum(Observe_history[:10000]==i)\n",
    "    Observe_count[i][1] = np.sum(Observe_history==i)\n",
    "print(Observe_count)"
   ],
   "metadata": {
    "collapsed": false,
    "pycharm": {
     "name": "#%%\n"
    }
   }
  },
  {
   "cell_type": "code",
   "execution_count": 21,
   "outputs": [],
   "source": [
    "h = 5025\n",
    "results = dm.validate_property_2(n_device, n_observe, distribution_type, n_ic, r_device, r_server, ARL_dict, h, k=1.2, delta=5,\n",
    "                                 n_shift=1, size_shift=1, t_shift=20, n_thread=15, N=10000)"
   ],
   "metadata": {
    "collapsed": false,
    "pycharm": {
     "name": "#%%\n"
    }
   }
  },
  {
   "cell_type": "code",
   "execution_count": 15,
   "outputs": [],
   "source": [
    "def count_true_at_end(array):\n",
    "    # Reverse the array for easier processing\n",
    "    reversed_array = array[::-1]\n",
    "    count = 0\n",
    "    for value in reversed_array:\n",
    "        # If the value is True, increment the count\n",
    "        if value:\n",
    "            count += 1\n",
    "        # If the value is not True, break the loop as we've reached the end of the True sequence\n",
    "        else:\n",
    "            break\n",
    "    return count"
   ],
   "metadata": {
    "collapsed": false,
    "pycharm": {
     "name": "#%%\n"
    }
   }
  },
  {
   "cell_type": "code",
   "execution_count": 22,
   "outputs": [],
   "source": [
    "count = np.zeros(len(results))\n",
    "for i in range(len(results)):\n",
    "    RL, Observe_history, shift_idx = results[i]\n",
    "    Observe_history = np.array(Observe_history)\n",
    "    shift_idx = shift_idx//5\n",
    "    Observe_history = np.any(Observe_history==shift_idx, axis=1)\n",
    "    count[i] = np.sum(Observe_history) - count_true_at_end(Observe_history) + 1"
   ],
   "metadata": {
    "collapsed": false,
    "pycharm": {
     "name": "#%%\n"
    }
   }
  },
  {
   "cell_type": "code",
   "execution_count": 23,
   "outputs": [
    {
     "data": {
      "text/plain": "25003.0"
     },
     "execution_count": 23,
     "metadata": {},
     "output_type": "execute_result"
    }
   ],
   "source": [
    "np.sum(count)"
   ],
   "metadata": {
    "collapsed": false,
    "pycharm": {
     "name": "#%%\n"
    }
   }
  },
  {
   "cell_type": "markdown",
   "source": [
    "## Correlated data streams\n",
    "### data generation"
   ],
   "metadata": {
    "collapsed": false,
    "pycharm": {
     "name": "#%% md\n"
    }
   }
  },
  {
   "cell_type": "code",
   "execution_count": 34,
   "outputs": [],
   "source": [
    "n = 100000\n",
    "distribution_type = [1, 2, 3, 4, 5] * 10\n",
    "n_stream = 50\n",
    "data1 = np.zeros((n_stream, n))\n",
    "for i in range(n_stream):\n",
    "    data1[i] = dm.data_generate(data_type=distribution_type[i], shape=n)\n",
    "covariance_matrix = np.zeros((n_stream, n_stream))\n",
    "for i in range(n_stream):\n",
    "    for j in range(n_stream):\n",
    "        covariance_matrix[i, j] = 0.8**2*0.8**(abs(i-j))\n",
    "data2 = np.random.multivariate_normal(mean=np.zeros(n_stream), cov=covariance_matrix, size=n).T\n",
    "data = data1*0.6 + data2"
   ],
   "metadata": {
    "collapsed": false,
    "pycharm": {
     "name": "#%%\n"
    }
   }
  },
  {
   "cell_type": "code",
   "execution_count": 35,
   "outputs": [
    {
     "data": {
      "text/plain": "array([0.99714148, 1.019895  , 0.99806855, 0.99858803, 1.00041772,\n       0.999098  , 0.99352705, 0.99897896, 1.00151442, 1.00444885,\n       1.00316351, 0.99196244, 1.00444575, 0.99801088, 1.00018725,\n       1.00247827, 0.98897959, 0.99936528, 1.00198385, 1.00058573,\n       1.00018691, 0.99560198, 1.00129174, 0.99693842, 0.99984541,\n       1.00056431, 1.5421082 , 0.99891234, 0.99907112, 0.99830697,\n       0.99945742, 0.99678738, 0.9989247 , 0.99843481, 0.99770862,\n       0.9991724 , 1.00470372, 1.00087204, 1.00081823, 1.00434406,\n       1.00054135, 1.00144174, 1.00299679, 1.00030471, 1.00228857,\n       0.99915419, 0.98676345, 1.00074146, 0.99848673, 1.00155669])"
     },
     "execution_count": 35,
     "metadata": {},
     "output_type": "execute_result"
    }
   ],
   "source": [
    "np.std(data, axis=1)"
   ],
   "metadata": {
    "collapsed": false,
    "pycharm": {
     "name": "#%%\n"
    }
   }
  },
  {
   "cell_type": "code",
   "execution_count": 36,
   "outputs": [],
   "source": [
    "data_ic = data[:, :500]\n",
    "n_ol = 800\n",
    "data1, data2, data3 = np.zeros((10000, n_stream, n_ol)), np.zeros((10000, n_stream, n_ol)), np.zeros((10000, n_stream, n_ol))\n",
    "for i in range(10000):\n",
    "    shift_idx = np.random.choice(np.arange(n_stream), 2)\n",
    "    select_sample = np.random.choice(np.arange(data.shape[1]), n_ol)\n",
    "    data1[i] = data[:, select_sample]\n",
    "    data1[i, shift_idx, 30:] += 1\n",
    "\n",
    "    select_sample = np.random.choice(np.arange(data.shape[1]), n_ol)\n",
    "    data2[i] = data[:, select_sample]\n",
    "    data2[i, shift_idx, 30:] += 2\n",
    "\n",
    "    select_sample = np.random.choice(np.arange(data.shape[1]), n_ol)\n",
    "    data3[i] = data[:, select_sample]\n",
    "    data3[i, shift_idx, 30:] += 3\n",
    "d = {'data_ic': data_ic, 'data1': data1, 'data2': data2, 'data3': data3}\n",
    "with open('data/data_correlated_stream.pkl', 'wb') as f:\n",
    "    pickle.dump(d, f)"
   ],
   "metadata": {
    "collapsed": false,
    "pycharm": {
     "name": "#%%\n"
    }
   }
  },
  {
   "cell_type": "markdown",
   "source": [
    "### Load data"
   ],
   "metadata": {
    "collapsed": false,
    "pycharm": {
     "name": "#%% md\n"
    }
   }
  },
  {
   "cell_type": "code",
   "execution_count": 38,
   "outputs": [],
   "source": [
    "with open('data/data_correlated_stream.pkl', 'rb') as f:\n",
    "    data_dict = pickle.load(f)\n",
    "data_ic = data_dict['data_ic']\n",
    "data_ol = [data_dict['data1'], data_dict['data2'], data_dict['data3']]"
   ],
   "metadata": {
    "collapsed": false,
    "pycharm": {
     "name": "#%%\n"
    }
   }
  },
  {
   "cell_type": "markdown",
   "source": [
    "### $m=2$"
   ],
   "metadata": {
    "collapsed": false,
    "pycharm": {
     "name": "#%% md\n"
    }
   }
  },
  {
   "cell_type": "code",
   "execution_count": 39,
   "outputs": [
    {
     "name": "stdout",
     "output_type": "stream",
     "text": [
      "[20.9772  9.0147  6.3437]\n",
      "[6.34418475 1.91778099 1.11120219]\n",
      "CPU times: total: 6.97 s\n",
      "Wall time: 1min 18s\n"
     ]
    }
   ],
   "source": [
    "%%time\n",
    "n_device, n_observe = 10, 2\n",
    "n_ic = 500\n",
    "distribution_type = [[1, 2, 3, 4, 5]] * 10\n",
    "r_server = 2\n",
    "r_device = [1]*10\n",
    "h = 4735\n",
    "delta = 100\n",
    "RL = np.zeros((3, 10000))\n",
    "for i in range(3):\n",
    "    RL[i] = dm.arl_proposed_data(n_device=n_device, n_observe=n_observe, distribution_type=distribution_type, n_ic=n_ic, r_device=r_device,\n",
    "                                 r_server=r_server, ARL_dict=ARL_dict, h=h, delta=delta, data_ic_file=data_ic, data_ol_file=data_ol[i], N=10000)\n",
    "RL -= 30\n",
    "print(np.mean(RL, axis=1))\n",
    "print(np.std(RL, axis=1))"
   ],
   "metadata": {
    "collapsed": false,
    "pycharm": {
     "name": "#%%\n"
    }
   }
  },
  {
   "cell_type": "markdown",
   "source": [
    "### $m=4$"
   ],
   "metadata": {
    "collapsed": false,
    "pycharm": {
     "name": "#%% md\n"
    }
   }
  },
  {
   "cell_type": "code",
   "execution_count": 40,
   "outputs": [
    {
     "name": "stdout",
     "output_type": "stream",
     "text": [
      "[20.7511  8.6596  5.7876]\n",
      "[6.28798448 1.86834896 0.9450324 ]\n",
      "CPU times: total: 6.52 s\n",
      "Wall time: 1min 19s\n"
     ]
    }
   ],
   "source": [
    "%%time\n",
    "n_device, n_observe = 10, 4\n",
    "n_ic = 500\n",
    "distribution_type = [[1, 2, 3, 4, 5]] * 10\n",
    "r_server = 2\n",
    "r_device = [1]*10\n",
    "h = 4737\n",
    "delta = 100\n",
    "RL = np.zeros((3, 10000))\n",
    "for i in range(3):\n",
    "    RL[i] = dm.arl_proposed_data(n_device=n_device, n_observe=n_observe, distribution_type=distribution_type, n_ic=n_ic, r_device=r_device,\n",
    "                                 r_server=r_server, ARL_dict=ARL_dict, h=h, delta=delta, data_ic_file=data_ic, data_ol_file=data_ol[i], N=10000)\n",
    "RL -= 30\n",
    "print(np.mean(RL, axis=1))\n",
    "print(np.std(RL, axis=1))"
   ],
   "metadata": {
    "collapsed": false,
    "pycharm": {
     "name": "#%%\n"
    }
   }
  },
  {
   "cell_type": "markdown",
   "source": [
    "### $m=6$"
   ],
   "metadata": {
    "collapsed": false,
    "pycharm": {
     "name": "#%% md\n"
    }
   }
  },
  {
   "cell_type": "code",
   "execution_count": 41,
   "outputs": [
    {
     "name": "stdout",
     "output_type": "stream",
     "text": [
      "[20.7443  8.6501  5.7703]\n",
      "[6.28806151 1.871649   0.94611728]\n",
      "CPU times: total: 4.88 s\n",
      "Wall time: 1min 18s\n"
     ]
    }
   ],
   "source": [
    "%%time\n",
    "n_device, n_observe = 10, 6\n",
    "n_ic = 500\n",
    "distribution_type = [[1, 2, 3, 4, 5]] * 10\n",
    "r_server = 2\n",
    "r_device = [1]*10\n",
    "h = 4740\n",
    "delta = 100\n",
    "RL = np.zeros((3, 10000))\n",
    "for i in range(3):\n",
    "    RL[i] = dm.arl_proposed_data(n_device=n_device, n_observe=n_observe, distribution_type=distribution_type, n_ic=n_ic, r_device=r_device,\n",
    "                                 r_server=r_server, ARL_dict=ARL_dict, h=h, delta=delta, data_ic_file=data_ic, data_ol_file=data_ol[i], N=10000)\n",
    "RL -= 30\n",
    "print(np.mean(RL, axis=1))\n",
    "print(np.std(RL, axis=1))"
   ],
   "metadata": {
    "collapsed": false,
    "pycharm": {
     "name": "#%%\n"
    }
   }
  }
 ],
 "metadata": {
  "kernelspec": {
   "display_name": "Python 3",
   "language": "python",
   "name": "python3"
  },
  "language_info": {
   "codemirror_mode": {
    "name": "ipython",
    "version": 2
   },
   "file_extension": ".py",
   "mimetype": "text/x-python",
   "name": "python",
   "nbconvert_exporter": "python",
   "pygments_lexer": "ipython2",
   "version": "2.7.6"
  }
 },
 "nbformat": 4,
 "nbformat_minor": 0
}