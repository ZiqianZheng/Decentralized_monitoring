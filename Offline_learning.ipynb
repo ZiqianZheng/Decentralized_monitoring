{
 "cells": [
  {
   "cell_type": "markdown",
   "source": [
    "    # Learn the ARL functions offline.\n",
    "\n",
    "In this notebook, we learn the ARL functions offline through the simulations. In our methods,\n",
    "the ARL function is determined by the number of data streams, the aggregation parameter r,\n",
    "and the allowance parameter k."
   ],
   "metadata": {
    "collapsed": false
   }
  },
  {
   "cell_type": "code",
   "execution_count": 1,
   "metadata": {
    "collapsed": true,
    "pycharm": {
     "name": "#%%\n"
    }
   },
   "outputs": [
    {
     "data": {
      "text/plain": "<module 'decentralized_monitoring' from 'C:\\\\Document_Z\\\\Code\\\\iot-monitoring\\\\decentralized_monitoring.py'>"
     },
     "execution_count": 1,
     "metadata": {},
     "output_type": "execute_result"
    }
   ],
   "source": [
    "import numpy as np\n",
    "import importlib as imp\n",
    "import decentralized_monitoring as dm\n",
    "import matplotlib.pyplot as plt\n",
    "imp.reload(dm)"
   ]
  },
  {
   "cell_type": "markdown",
   "source": [
    "##### 5 streams, $r=1$"
   ],
   "metadata": {
    "collapsed": false,
    "pycharm": {
     "name": "#%% md\n"
    }
   }
  },
  {
   "cell_type": "code",
   "execution_count": null,
   "outputs": [],
   "source": [
    "n_stream, r = 5, 1\n",
    "dm.arl0_device(n_stream=n_stream, k=1.2, h=24, r=r, N=2000, verbose=1)"
   ],
   "metadata": {
    "collapsed": false,
    "pycharm": {
     "name": "#%%\n"
    }
   }
  },
  {
   "cell_type": "code",
   "execution_count": null,
   "outputs": [],
   "source": [
    "%%time\n",
    "h_list = np.arange(48)*0.5\n",
    "Ah = np.zeros(len(h_list))\n",
    "for i in range(len(h_list)):\n",
    "    ARL, _ = dm.arl0_device(n_stream=n_stream, k=1.2, h=h_list[i], r=r, N=10000, verbose=1)\n",
    "    Ah[i] = ARL"
   ],
   "metadata": {
    "collapsed": false,
    "pycharm": {
     "name": "#%%\n"
    }
   }
  },
  {
   "cell_type": "code",
   "execution_count": 2,
   "outputs": [],
   "source": [
    "# np.save('data/A_{}_{}.npy'.format(n_stream, r), Ah)\n",
    "Ah = np.load('data/A_5_1.npy')"
   ],
   "metadata": {
    "collapsed": false,
    "pycharm": {
     "name": "#%%\n"
    }
   }
  },
  {
   "cell_type": "code",
   "execution_count": 3,
   "outputs": [
    {
     "data": {
      "text/plain": "<matplotlib.collections.PathCollection at 0x1e4d89299d0>"
     },
     "execution_count": 3,
     "metadata": {},
     "output_type": "execute_result"
    },
    {
     "data": {
      "text/plain": "<Figure size 640x480 with 1 Axes>",
      "image/png": "[encoded data removed]"
     },
     "metadata": {},
     "output_type": "display_data"
    }
   ],
   "source": [
    "h_list = np.arange(len(Ah))*0.5\n",
    "h_est = np.linspace(0, h_list[-1]+3, 30)\n",
    "Ah_est = np.array([dm.arl0_function(Ah, h) for h in h_est])\n",
    "plt.plot(h_list, Ah)\n",
    "plt.scatter(h_est, Ah_est, c='C1')"
   ],
   "metadata": {
    "collapsed": false,
    "pycharm": {
     "name": "#%%\n"
    }
   }
  },
  {
   "cell_type": "markdown",
   "source": [
    "##### 10 streams, $r=2$"
   ],
   "metadata": {
    "collapsed": false,
    "pycharm": {
     "name": "#%% md\n"
    }
   }
  },
  {
   "cell_type": "code",
   "execution_count": null,
   "outputs": [],
   "source": [
    "n_stream, r = 10, 2\n",
    "dm.arl0_device(n_stream=n_stream, k=1.2, h=39, r=r, N=2000, verbose=1)"
   ],
   "metadata": {
    "collapsed": false,
    "pycharm": {
     "name": "#%%\n"
    }
   }
  },
  {
   "cell_type": "code",
   "execution_count": null,
   "outputs": [],
   "source": [
    "%%time\n",
    "h_list = np.arange(80)*0.5\n",
    "Ah = np.zeros(len(h_list))\n",
    "for i in range(len(h_list)):\n",
    "    ARL, _ = dm.arl0_device(n_stream=n_stream, k=1.2, h=h_list[i], r=r, N=10000, verbose=1)\n",
    "    Ah[i] = ARL"
   ],
   "metadata": {
    "collapsed": false,
    "pycharm": {
     "name": "#%%\n"
    }
   }
  },
  {
   "cell_type": "code",
   "execution_count": null,
   "outputs": [],
   "source": [
    "np.save('data/A_{}_{}.npy'.format(n_stream, r), Ah)\n",
    "Ah = np.load('data/A_10_2.npy')"
   ],
   "metadata": {
    "collapsed": false,
    "pycharm": {
     "name": "#%%\n"
    }
   }
  },
  {
   "cell_type": "code",
   "execution_count": null,
   "outputs": [],
   "source": [
    "h_list = np.arange(len(Ah))*0.5\n",
    "h_est = np.linspace(0, h_list[-1]+3, 30)\n",
    "Ah_est = np.array([dm.arl0_function(Ah, h) for h in h_est])\n",
    "plt.plot(h_list, Ah)\n",
    "plt.scatter(h_est, Ah_est, c='C1')"
   ],
   "metadata": {
    "collapsed": false,
    "pycharm": {
     "name": "#%%\n"
    }
   }
  },
  {
   "cell_type": "markdown",
   "source": [
    "##### 4 streams, $r=1$"
   ],
   "metadata": {
    "collapsed": false,
    "pycharm": {
     "name": "#%% md\n"
    }
   }
  },
  {
   "cell_type": "code",
   "execution_count": null,
   "outputs": [],
   "source": [
    "n_stream, r = 4, 1\n",
    "dm.arl0_device(n_stream=n_stream, k=1.2, h=23, r=r, N=2000, verbose=1)"
   ],
   "metadata": {
    "collapsed": false,
    "pycharm": {
     "name": "#%%\n"
    }
   }
  },
  {
   "cell_type": "code",
   "execution_count": null,
   "outputs": [],
   "source": [
    "%%time\n",
    "h_list = np.arange(47)*0.5\n",
    "Ah = np.zeros(len(h_list))\n",
    "for i in range(len(h_list)):\n",
    "    ARL, _ = dm.arl0_device(n_stream=n_stream, k=1.2, h=h_list[i], r=r, N=10000, verbose=1)\n",
    "    Ah[i] = ARL"
   ],
   "metadata": {
    "collapsed": false,
    "pycharm": {
     "name": "#%%\n"
    }
   }
  },
  {
   "cell_type": "code",
   "execution_count": null,
   "outputs": [],
   "source": [
    "np.save('data/A_{}_{}.npy'.format(n_stream, r), Ah)\n",
    "Ah = np.load('data/A_4_1.npy')"
   ],
   "metadata": {
    "collapsed": false,
    "pycharm": {
     "name": "#%%\n"
    }
   }
  },
  {
   "cell_type": "code",
   "execution_count": null,
   "outputs": [],
   "source": [
    "h_list = np.arange(len(Ah))*0.5\n",
    "h_est = np.linspace(0, h_list[-1]+3, 30)\n",
    "Ah_est = np.array([dm.arl0_function(Ah, h) for h in h_est])\n",
    "plt.plot(h_list, Ah)\n",
    "plt.scatter(h_est, Ah_est, c='C1')"
   ],
   "metadata": {
    "collapsed": false,
    "pycharm": {
     "name": "#%%\n"
    }
   }
  },
  {
   "cell_type": "markdown",
   "source": [
    "##### 2 streams, $r=1$"
   ],
   "metadata": {
    "collapsed": false,
    "pycharm": {
     "name": "#%% md\n"
    }
   }
  },
  {
   "cell_type": "code",
   "execution_count": null,
   "outputs": [],
   "source": [
    "n_stream, r = 2, 1\n",
    "dm.arl0_device(n_stream=n_stream, k=1.2, h=20, r=r, N=2000, verbose=1)"
   ],
   "metadata": {
    "collapsed": false,
    "pycharm": {
     "name": "#%%\n"
    }
   }
  },
  {
   "cell_type": "code",
   "execution_count": null,
   "outputs": [],
   "source": [
    "%%time\n",
    "h_list = np.arange(41)*0.5\n",
    "Ah = np.zeros(len(h_list))\n",
    "for i in range(len(h_list)):\n",
    "    ARL, _ = dm.arl0_device(n_stream=n_stream, k=1.2, h=h_list[i], r=r, N=10000, verbose=1)\n",
    "    Ah[i] = ARL"
   ],
   "metadata": {
    "collapsed": false,
    "pycharm": {
     "name": "#%%\n"
    }
   }
  },
  {
   "cell_type": "code",
   "execution_count": null,
   "outputs": [],
   "source": [
    "np.save('data/A_{}_{}.npy'.format(n_stream, r), Ah)\n",
    "Ah = np.load('data/A_2_1.npy')"
   ],
   "metadata": {
    "collapsed": false,
    "pycharm": {
     "name": "#%%\n"
    }
   }
  },
  {
   "cell_type": "code",
   "execution_count": null,
   "outputs": [],
   "source": [
    "h_list = np.arange(len(Ah))*0.5\n",
    "h_est = np.linspace(0, h_list[-1]+3, 30)\n",
    "Ah_est = np.array([dm.arl0_function(Ah, h) for h in h_est])\n",
    "plt.plot(h_list, Ah)\n",
    "plt.scatter(h_est, Ah_est, c='C1')"
   ],
   "metadata": {
    "collapsed": false,
    "pycharm": {
     "name": "#%%\n"
    }
   }
  },
  {
   "cell_type": "code",
   "execution_count": null,
   "outputs": [],
   "source": [],
   "metadata": {
    "collapsed": false,
    "pycharm": {
     "name": "#%%\n"
    }
   }
  }
 ],
 "metadata": {
  "kernelspec": {
   "display_name": "Python 3",
   "language": "python",
   "name": "python3"
  },
  "language_info": {
   "codemirror_mode": {
    "name": "ipython",
    "version": 2
   },
   "file_extension": ".py",
   "mimetype": "text/x-python",
   "name": "python",
   "nbconvert_exporter": "python",
   "pygments_lexer": "ipython2",
   "version": "2.7.6"
  }
 },
 "nbformat": 4,
 "nbformat_minor": 0
}
